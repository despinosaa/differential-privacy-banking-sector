{
 "cells": [
  {
   "cell_type": "markdown",
   "metadata": {},
   "source": [
    "<h2 style=\"text-align: center;\"><strong>Differential Privacy Strategies for Data Analytics in the Banking Sector</strong></h2>"
   ]
  },
  {
   "cell_type": "markdown",
   "metadata": {},
   "source": [
    "<div style=\"text-align: center;\">\n",
    "  Universidad de los Andes<br>\n",
    "  Author: Daniela Espinosa 202022615<br>\n",
    "</div>\n"
   ]
  },
  {
   "cell_type": "markdown",
   "metadata": {},
   "source": [
    "### **Modelling**"
   ]
  },
  {
   "cell_type": "code",
   "execution_count": null,
   "metadata": {},
   "outputs": [],
   "source": [
    "import pandas as pd\n",
    "import matplotlib.pyplot as plt\n",
    "\n",
    "from sklearn.preprocessing import StandardScaler\n",
    "from sklearn.model_selection import train_test_split, GridSearchCV\n",
    "from sklearn.metrics import accuracy_score, roc_auc_score, roc_curve,precision_score, recall_score, confusion_matrix, f1_score\n",
    "\n",
    "from imblearn.over_sampling import SMOTE\n",
    "from boruta import BorutaPy\n",
    "\n",
    "import xgboost as xgb\n",
    "from sklearn.model_selection import KFold\n",
    "from sklearn.linear_model import LogisticRegression\n",
    "from sklearn.ensemble import RandomForestClassifier\n",
    "from sklearn.ensemble import GradientBoostingClassifier\n",
    "from sklearn.model_selection import train_test_split\n",
    "\n",
    "from keras import Sequential\n",
    "from keras.src.layers import Dense, Dropout\n",
    "from keras.src.optimizers import Adam\n",
    "from keras.src.callbacks import EarlyStopping"
   ]
  },
  {
   "cell_type": "markdown",
   "metadata": {},
   "source": [
    "### Data prep"
   ]
  },
  {
   "cell_type": "code",
   "execution_count": 14,
   "metadata": {},
   "outputs": [
    {
     "data": {
      "text/plain": [
       "(45211, 33)"
      ]
     },
     "execution_count": 14,
     "metadata": {},
     "output_type": "execute_result"
    }
   ],
   "source": [
    "# Load data\n",
    "data = pd.read_csv('C:/Users/danie/OneDrive/Documentos/1 UNIANDES/10 semestre/Tesis/differential-privacy-banking-sector/data/processed/bank-processed.csv', sep=',')\n",
    "data.shape"
   ]
  },
  {
   "cell_type": "code",
   "execution_count": 15,
   "metadata": {},
   "outputs": [],
   "source": [
    "# Separate features and target variable\n",
    "X = data.drop(columns=['y'])\n",
    "Y = data['y']\n",
    "\n",
    "# Define numerical features\n",
    "numeric_cols = ['age', 'balance', 'day', 'duration', 'campaign', 'pdays', 'previous']\n",
    "\n",
    "# Normalize numerical features\n",
    "scale = StandardScaler()\n",
    "X[numeric_cols] = scale.fit_transform(X[numeric_cols])\n",
    "\n",
    "# Split data into training and test sets\n",
    "X_train, X_test, y_train, y_test = train_test_split(X, Y, test_size=0.2, random_state=42, stratify=Y)"
   ]
  },
  {
   "cell_type": "markdown",
   "metadata": {},
   "source": [
    "#### Synthetic Minority Oversampling Technique (SMOTE)"
   ]
  },
  {
   "cell_type": "code",
   "execution_count": 16,
   "metadata": {},
   "outputs": [
    {
     "data": {
      "text/html": [
       "<div>\n",
       "<style scoped>\n",
       "    .dataframe tbody tr th:only-of-type {\n",
       "        vertical-align: middle;\n",
       "    }\n",
       "\n",
       "    .dataframe tbody tr th {\n",
       "        vertical-align: top;\n",
       "    }\n",
       "\n",
       "    .dataframe thead th {\n",
       "        text-align: right;\n",
       "    }\n",
       "</style>\n",
       "<table border=\"1\" class=\"dataframe\">\n",
       "  <thead>\n",
       "    <tr style=\"text-align: right;\">\n",
       "      <th></th>\n",
       "      <th>count</th>\n",
       "      <th>percent</th>\n",
       "    </tr>\n",
       "    <tr>\n",
       "      <th>y</th>\n",
       "      <th></th>\n",
       "      <th></th>\n",
       "    </tr>\n",
       "  </thead>\n",
       "  <tbody>\n",
       "    <tr>\n",
       "      <th>0</th>\n",
       "      <td>39922</td>\n",
       "      <td>88.30152</td>\n",
       "    </tr>\n",
       "    <tr>\n",
       "      <th>1</th>\n",
       "      <td>5289</td>\n",
       "      <td>11.69848</td>\n",
       "    </tr>\n",
       "  </tbody>\n",
       "</table>\n",
       "</div>"
      ],
      "text/plain": [
       "   count   percent\n",
       "y                 \n",
       "0  39922  88.30152\n",
       "1   5289  11.69848"
      ]
     },
     "execution_count": 16,
     "metadata": {},
     "output_type": "execute_result"
    }
   ],
   "source": [
    "stat = pd.DataFrame(Y.value_counts())\n",
    "stat['percent'] = stat['count']/Y.shape[0]*100\n",
    "stat"
   ]
  },
  {
   "cell_type": "code",
   "execution_count": 17,
   "metadata": {},
   "outputs": [],
   "source": [
    "smote = SMOTE(random_state=42)\n",
    "X_resample, y_resample = smote.fit_resample(X_train, y_train)\n",
    "\n",
    "# Convert to DataFrame to keep column names\n",
    "X_resample = pd.DataFrame(X_resample, columns=X.columns)\n",
    "y_resample = pd.Series(y_resample)"
   ]
  },
  {
   "cell_type": "code",
   "execution_count": 18,
   "metadata": {},
   "outputs": [
    {
     "data": {
      "text/html": [
       "<div>\n",
       "<style scoped>\n",
       "    .dataframe tbody tr th:only-of-type {\n",
       "        vertical-align: middle;\n",
       "    }\n",
       "\n",
       "    .dataframe tbody tr th {\n",
       "        vertical-align: top;\n",
       "    }\n",
       "\n",
       "    .dataframe thead th {\n",
       "        text-align: right;\n",
       "    }\n",
       "</style>\n",
       "<table border=\"1\" class=\"dataframe\">\n",
       "  <thead>\n",
       "    <tr style=\"text-align: right;\">\n",
       "      <th></th>\n",
       "      <th>count</th>\n",
       "      <th>percent</th>\n",
       "    </tr>\n",
       "    <tr>\n",
       "      <th>y</th>\n",
       "      <th></th>\n",
       "      <th></th>\n",
       "    </tr>\n",
       "  </thead>\n",
       "  <tbody>\n",
       "    <tr>\n",
       "      <th>0</th>\n",
       "      <td>31937</td>\n",
       "      <td>50.0</td>\n",
       "    </tr>\n",
       "    <tr>\n",
       "      <th>1</th>\n",
       "      <td>31937</td>\n",
       "      <td>50.0</td>\n",
       "    </tr>\n",
       "  </tbody>\n",
       "</table>\n",
       "</div>"
      ],
      "text/plain": [
       "   count  percent\n",
       "y                \n",
       "0  31937     50.0\n",
       "1  31937     50.0"
      ]
     },
     "execution_count": 18,
     "metadata": {},
     "output_type": "execute_result"
    }
   ],
   "source": [
    "stat2 = pd.DataFrame(y_resample.value_counts())\n",
    "stat2['percent'] = stat2['count']/y_resample.shape[0]*100\n",
    "stat2"
   ]
  },
  {
   "cell_type": "markdown",
   "metadata": {},
   "source": [
    "### **Feature Selection**\n"
   ]
  },
  {
   "cell_type": "markdown",
   "metadata": {},
   "source": [
    "#### Boruta Algorithm (wrapper)"
   ]
  },
  {
   "cell_type": "code",
   "execution_count": 19,
   "metadata": {},
   "outputs": [
    {
     "name": "stderr",
     "output_type": "stream",
     "text": [
      "c:\\Users\\danie\\OneDrive\\Documentos\\1 UNIANDES\\10 semestre\\Tesis\\differential-privacy-banking-sector\\.venv\\Lib\\site-packages\\xgboost\\core.py:158: UserWarning: [09:00:05] WARNING: C:\\buildkite-agent\\builds\\buildkite-windows-cpu-autoscaling-group-i-0ed59c031377d09b8-1\\xgboost\\xgboost-ci-windows\\src\\learner.cc:740: \n",
      "Parameters: { \"use_label_encoder\" } are not used.\n",
      "\n",
      "  warnings.warn(smsg, UserWarning)\n"
     ]
    },
    {
     "name": "stdout",
     "output_type": "stream",
     "text": [
      "Iteration: \t1 / 100\n",
      "Confirmed: \t0\n",
      "Tentative: \t32\n",
      "Rejected: \t0\n"
     ]
    },
    {
     "name": "stderr",
     "output_type": "stream",
     "text": [
      "c:\\Users\\danie\\OneDrive\\Documentos\\1 UNIANDES\\10 semestre\\Tesis\\differential-privacy-banking-sector\\.venv\\Lib\\site-packages\\xgboost\\core.py:158: UserWarning: [09:00:06] WARNING: C:\\buildkite-agent\\builds\\buildkite-windows-cpu-autoscaling-group-i-0ed59c031377d09b8-1\\xgboost\\xgboost-ci-windows\\src\\learner.cc:740: \n",
      "Parameters: { \"use_label_encoder\" } are not used.\n",
      "\n",
      "  warnings.warn(smsg, UserWarning)\n"
     ]
    },
    {
     "name": "stdout",
     "output_type": "stream",
     "text": [
      "Iteration: \t2 / 100\n",
      "Confirmed: \t0\n",
      "Tentative: \t32\n",
      "Rejected: \t0\n",
      "Iteration: \t3 / 100\n",
      "Confirmed: \t0\n",
      "Tentative: \t32\n",
      "Rejected: \t0\n"
     ]
    },
    {
     "name": "stderr",
     "output_type": "stream",
     "text": [
      "c:\\Users\\danie\\OneDrive\\Documentos\\1 UNIANDES\\10 semestre\\Tesis\\differential-privacy-banking-sector\\.venv\\Lib\\site-packages\\xgboost\\core.py:158: UserWarning: [09:00:07] WARNING: C:\\buildkite-agent\\builds\\buildkite-windows-cpu-autoscaling-group-i-0ed59c031377d09b8-1\\xgboost\\xgboost-ci-windows\\src\\learner.cc:740: \n",
      "Parameters: { \"use_label_encoder\" } are not used.\n",
      "\n",
      "  warnings.warn(smsg, UserWarning)\n"
     ]
    },
    {
     "name": "stdout",
     "output_type": "stream",
     "text": [
      "Iteration: \t4 / 100\n",
      "Confirmed: \t0\n",
      "Tentative: \t32\n",
      "Rejected: \t0\n",
      "Iteration: \t5 / 100\n",
      "Confirmed: \t0\n",
      "Tentative: \t32\n",
      "Rejected: \t0\n"
     ]
    },
    {
     "name": "stderr",
     "output_type": "stream",
     "text": [
      "c:\\Users\\danie\\OneDrive\\Documentos\\1 UNIANDES\\10 semestre\\Tesis\\differential-privacy-banking-sector\\.venv\\Lib\\site-packages\\xgboost\\core.py:158: UserWarning: [09:00:08] WARNING: C:\\buildkite-agent\\builds\\buildkite-windows-cpu-autoscaling-group-i-0ed59c031377d09b8-1\\xgboost\\xgboost-ci-windows\\src\\learner.cc:740: \n",
      "Parameters: { \"use_label_encoder\" } are not used.\n",
      "\n",
      "  warnings.warn(smsg, UserWarning)\n"
     ]
    },
    {
     "name": "stdout",
     "output_type": "stream",
     "text": [
      "Iteration: \t6 / 100\n",
      "Confirmed: \t0\n",
      "Tentative: \t32\n",
      "Rejected: \t0\n",
      "Iteration: \t7 / 100\n",
      "Confirmed: \t0\n",
      "Tentative: \t32\n",
      "Rejected: \t0\n",
      "Iteration: \t8 / 100\n",
      "Confirmed: \t32\n",
      "Tentative: \t0\n",
      "Rejected: \t0\n",
      "\n",
      "\n",
      "BorutaPy finished running.\n",
      "\n",
      "Iteration: \t9 / 100\n",
      "Confirmed: \t32\n",
      "Tentative: \t0\n",
      "Rejected: \t0\n"
     ]
    }
   ],
   "source": [
    "# Inicializar el modelo de XGBoost asegurando compatibilidad\n",
    "rf = xgb.XGBClassifier(use_label_encoder=False, eval_metric='logloss')\n",
    "\n",
    "# Configurar BorutaPy\n",
    "feat_selector = BorutaPy(rf, n_estimators='auto', verbose=2, random_state=42)\n",
    "\n",
    "# Ajustar BorutaPy asegurando que Y_resample sea 1D\n",
    "feat_selector.fit(X_resample.values, y_resample.values.ravel())\n",
    "\n",
    "# Obtener las características seleccionadas\n",
    "X_filtered = X.columns[feat_selector.support_].tolist()"
   ]
  },
  {
   "cell_type": "markdown",
   "metadata": {},
   "source": [
    "### Export dataset"
   ]
  },
  {
   "cell_type": "code",
   "execution_count": 20,
   "metadata": {},
   "outputs": [
    {
     "name": "stdout",
     "output_type": "stream",
     "text": [
      "Dataset preprocesado guardado en: C:/Users/danie/OneDrive/Documentos/1 UNIANDES/10 semestre/Tesis/differential-privacy-banking-sector/data/processed/bank-filtered.csv\n"
     ]
    }
   ],
   "source": [
    "# Save filtered and normalized data\n",
    "filtered_data = X[X_filtered].copy()\n",
    "filtered_data['y'] = Y\n",
    "\n",
    "# Save to csv\n",
    "filtered_path = 'C:/Users/danie/OneDrive/Documentos/1 UNIANDES/10 semestre/Tesis/differential-privacy-banking-sector/data/processed/bank-filtered.csv'\n",
    "filtered_data.to_csv(filtered_path, index=False)\n",
    "print(f\"Dataset preprocesado guardado en: {filtered_path}\")"
   ]
  },
  {
   "cell_type": "markdown",
   "metadata": {},
   "source": [
    "### **Hyperparameter Tuning**"
   ]
  },
  {
   "cell_type": "markdown",
   "metadata": {},
   "source": [
    "### VERSIÓN INICIAL"
   ]
  },
  {
   "cell_type": "code",
   "execution_count": 21,
   "metadata": {},
   "outputs": [],
   "source": [
    "# Definir modelos\n",
    "models = { \n",
    "    'ElasticNet': LogisticRegression(solver='saga', max_iter=10000),\n",
    "    'XGBoost': xgb.XGBClassifier(use_label_encoder=False, eval_metric='logloss', random_state=42),\n",
    "    'RandomForest': RandomForestClassifier(random_state=42),\n",
    "    'GradientBoosting': GradientBoostingClassifier(random_state=42)\n",
    "}\n",
    "\n",
    "# Definir hiperparámetros\n",
    "param_grids = {\n",
    "    'ElasticNet': {\n",
    "        'C': [0.001, 0.01, 0.1, 1, 10, 100, 1000],\n",
    "        'l1_ratio': [0.1, 0.3, 0.5, 0.7, 0.9],\n",
    "        'penalty': ['elasticnet']\n",
    "    },\n",
    "    'XGBoost': {\n",
    "        'n_estimators': [50, 100, 200],\n",
    "        'max_depth': [3, 5, 7],\n",
    "        'learning_rate': [0.001, 0.01, 0.05, 0.1, 0.2, 0.3],\n",
    "        'min_child_weight': [1, 3, 5],\n",
    "        'subsample': [0.6, 0.8, 1.0],\n",
    "        'colsample_bytree': [0.6, 0.8, 1.0]\n",
    "    },\n",
    "    'RandomForest': {\n",
    "        'n_estimators': [50, 100, 200],\n",
    "        'max_depth': [None, 10, 20],\n",
    "        'min_samples_split': [2, 5, 10],\n",
    "        'min_samples_leaf': [1, 2, 4]\n",
    "    },\n",
    "    'GradientBoosting': {\n",
    "        'n_estimators': [50, 100, 200],\n",
    "        'learning_rate': [0.01, 0.1, 0.2],\n",
    "        'max_depth': [3, 5, 7]\n",
    "    }\n",
    "}\n"
   ]
  },
  {
   "cell_type": "markdown",
   "metadata": {},
   "source": [
    "### Training"
   ]
  },
  {
   "cell_type": "code",
   "execution_count": 24,
   "metadata": {},
   "outputs": [
    {
     "name": "stdout",
     "output_type": "stream",
     "text": [
      "Training ElasticNet...\n"
     ]
    },
    {
     "name": "stderr",
     "output_type": "stream",
     "text": [
      "C:\\Users\\danie\\AppData\\Local\\Temp\\ipykernel_20808\\3855823.py:17: FutureWarning: Series.ravel is deprecated. The underlying array is already 1D, so ravel is not necessary.  Use `to_numpy()` for conversion to a numpy array instead.\n",
      "  grid_search.fit(X_resample[X_filtered], y_resample.ravel())\n"
     ]
    },
    {
     "name": "stdout",
     "output_type": "stream",
     "text": [
      "Best params for ElasticNet: {'C': 1, 'l1_ratio': 0.1, 'penalty': 'elasticnet'}\n",
      "Best ROC AUC score for ElasticNet: 0.929576\n",
      "Training XGBoost...\n"
     ]
    },
    {
     "name": "stderr",
     "output_type": "stream",
     "text": [
      "C:\\Users\\danie\\AppData\\Local\\Temp\\ipykernel_20808\\3855823.py:17: FutureWarning: Series.ravel is deprecated. The underlying array is already 1D, so ravel is not necessary.  Use `to_numpy()` for conversion to a numpy array instead.\n",
      "  grid_search.fit(X_resample[X_filtered], y_resample.ravel())\n",
      "c:\\Users\\danie\\OneDrive\\Documentos\\1 UNIANDES\\10 semestre\\Tesis\\differential-privacy-banking-sector\\.venv\\Lib\\site-packages\\xgboost\\core.py:158: UserWarning: [09:16:40] WARNING: C:\\buildkite-agent\\builds\\buildkite-windows-cpu-autoscaling-group-i-0ed59c031377d09b8-1\\xgboost\\xgboost-ci-windows\\src\\learner.cc:740: \n",
      "Parameters: { \"use_label_encoder\" } are not used.\n",
      "\n",
      "  warnings.warn(smsg, UserWarning)\n"
     ]
    },
    {
     "name": "stdout",
     "output_type": "stream",
     "text": [
      "Best params for XGBoost: {'colsample_bytree': 0.8, 'learning_rate': 0.2, 'max_depth': 7, 'min_child_weight': 1, 'n_estimators': 200, 'subsample': 1.0}\n",
      "Best ROC AUC score for XGBoost: 0.989667\n",
      "Training RandomForest...\n"
     ]
    },
    {
     "name": "stderr",
     "output_type": "stream",
     "text": [
      "C:\\Users\\danie\\AppData\\Local\\Temp\\ipykernel_20808\\3855823.py:17: FutureWarning: Series.ravel is deprecated. The underlying array is already 1D, so ravel is not necessary.  Use `to_numpy()` for conversion to a numpy array instead.\n",
      "  grid_search.fit(X_resample[X_filtered], y_resample.ravel())\n"
     ]
    },
    {
     "name": "stdout",
     "output_type": "stream",
     "text": [
      "Best params for RandomForest: {'max_depth': None, 'min_samples_leaf': 1, 'min_samples_split': 2, 'n_estimators': 200}\n",
      "Best ROC AUC score for RandomForest: 0.985440\n",
      "Training GradientBoosting...\n"
     ]
    },
    {
     "name": "stderr",
     "output_type": "stream",
     "text": [
      "C:\\Users\\danie\\AppData\\Local\\Temp\\ipykernel_20808\\3855823.py:17: FutureWarning: Series.ravel is deprecated. The underlying array is already 1D, so ravel is not necessary.  Use `to_numpy()` for conversion to a numpy array instead.\n",
      "  grid_search.fit(X_resample[X_filtered], y_resample.ravel())\n"
     ]
    },
    {
     "name": "stdout",
     "output_type": "stream",
     "text": [
      "Best params for GradientBoosting: {'learning_rate': 0.2, 'max_depth': 7, 'n_estimators': 200}\n",
      "Best ROC AUC score for GradientBoosting: 0.989501\n"
     ]
    },
    {
     "data": {
      "image/png": "[encoded data removed]",
      "text/plain": [
       "<Figure size 1000x800 with 1 Axes>"
      ]
     },
     "metadata": {},
     "output_type": "display_data"
    },
    {
     "name": "stdout",
     "output_type": "stream",
     "text": [
      "\n",
      "Best overall model: XGBoost with ROC AUC: 0.989667\n"
     ]
    }
   ],
   "source": [
    "# Inicializar el gráfico de la curva ROC\n",
    "plt.figure(figsize=(10, 8))\n",
    "\n",
    "# k-fold cross-validation\n",
    "kf = KFold(n_splits=2, shuffle=True, random_state=42)\n",
    "\n",
    "# Diccionarios para almacenar resultados\n",
    "results = {}\n",
    "best_models = {}\n",
    "best_scores = {}\n",
    "\n",
    "for model_name, model in models.items():\n",
    "    print(f'Training {model_name}...')\n",
    "\n",
    "    # Grid Search con validación cruzada\n",
    "    grid_search = GridSearchCV(model, param_grids[model_name], cv=kf, scoring='roc_auc', n_jobs=-1)\n",
    "    grid_search.fit(X_resample[X_filtered], y_resample.ravel())\n",
    "\n",
    "    best_models[model_name] = grid_search.best_estimator_\n",
    "    best_scores[model_name] = grid_search.best_score_\n",
    "\n",
    "    print(f'Best params for {model_name}: {grid_search.best_params_}')\n",
    "    print(f'Best ROC AUC score for {model_name}: {grid_search.best_score_:.6f}')\n",
    "\n",
    "    # Hacer predicciones en el conjunto de prueba\n",
    "    y_pred = best_models[model_name].predict(X_test[X_filtered])\n",
    "    y_prob = best_models[model_name].predict_proba(X_test[X_filtered])[:, 1]\n",
    "\n",
    "    # Confusion matrix en el conjunto de prueba\n",
    "    conf_matrix = confusion_matrix(y_test, y_pred)\n",
    "    actual_negatives = conf_matrix[0].sum()\n",
    "    actual_positives = conf_matrix[1].sum()\n",
    "\n",
    "    false_positive = conf_matrix[0][1]  # Error Tipo I\n",
    "    false_negative = conf_matrix[1][0]  # Error Tipo II\n",
    "\n",
    "    false_positive_pct = (false_positive / actual_negatives) * 100\n",
    "    false_negative_pct = (false_negative / actual_positives) * 100\n",
    "\n",
    "    # Guardar resultados en el diccionario\n",
    "    results[model_name] = {\n",
    "        'Accuracy': accuracy_score(y_test, y_pred),\n",
    "        'Precision': precision_score(y_test, y_pred),\n",
    "        'Recall': recall_score(y_test, y_pred),\n",
    "        'F1 Score': f1_score(y_test, y_pred),\n",
    "        'Type I Error (%)': false_positive_pct,\n",
    "        'Type II Error (%)': false_negative_pct,\n",
    "        'ROC AUC': roc_auc_score(y_test, y_prob),\n",
    "        'Best Params': grid_search.best_params_\n",
    "    }\n",
    "\n",
    "    # Curva ROC\n",
    "    fpr, tpr, _ = roc_curve(y_test, y_prob)\n",
    "    plt.plot(fpr, tpr, label=f\"{model_name} (AUC = {results[model_name]['ROC AUC']:.2f})\")\n",
    "\n",
    "plt.xlabel('False Positive Rate')\n",
    "plt.ylabel('True Positive Rate')\n",
    "plt.title('Models ROC curves')\n",
    "plt.legend()\n",
    "plt.show()\n",
    "\n",
    "# Seleccionar el mejor modelo basado en la métrica ROC AUC\n",
    "best_model_name = max(best_scores, key=best_scores.get)\n",
    "best_model = best_models[best_model_name]\n",
    "print(f'\\nBest overall model: {best_model_name} with ROC AUC: {best_scores[best_model_name]:.6f}')\n"
   ]
  },
  {
   "cell_type": "code",
   "execution_count": 25,
   "metadata": {},
   "outputs": [
    {
     "name": "stdout",
     "output_type": "stream",
     "text": [
      "\n",
      "Resultados finales:\n"
     ]
    },
    {
     "data": {
      "text/html": [
       "<div>\n",
       "<style scoped>\n",
       "    .dataframe tbody tr th:only-of-type {\n",
       "        vertical-align: middle;\n",
       "    }\n",
       "\n",
       "    .dataframe tbody tr th {\n",
       "        vertical-align: top;\n",
       "    }\n",
       "\n",
       "    .dataframe thead th {\n",
       "        text-align: right;\n",
       "    }\n",
       "</style>\n",
       "<table border=\"1\" class=\"dataframe\">\n",
       "  <thead>\n",
       "    <tr style=\"text-align: right;\">\n",
       "      <th></th>\n",
       "      <th>Accuracy</th>\n",
       "      <th>Precision</th>\n",
       "      <th>Recall</th>\n",
       "      <th>F1 Score</th>\n",
       "      <th>Type I Error (%)</th>\n",
       "      <th>Type II Error (%)</th>\n",
       "      <th>ROC AUC</th>\n",
       "      <th>Best Params</th>\n",
       "    </tr>\n",
       "  </thead>\n",
       "  <tbody>\n",
       "    <tr>\n",
       "      <th>XGBoost</th>\n",
       "      <td>0.901913</td>\n",
       "      <td>0.584570</td>\n",
       "      <td>0.558601</td>\n",
       "      <td>0.571290</td>\n",
       "      <td>5.259862</td>\n",
       "      <td>44.139887</td>\n",
       "      <td>0.924599</td>\n",
       "      <td>{'colsample_bytree': 0.8, 'learning_rate': 0.2...</td>\n",
       "    </tr>\n",
       "    <tr>\n",
       "      <th>GradientBoosting</th>\n",
       "      <td>0.905009</td>\n",
       "      <td>0.599401</td>\n",
       "      <td>0.567108</td>\n",
       "      <td>0.582807</td>\n",
       "      <td>5.021916</td>\n",
       "      <td>43.289225</td>\n",
       "      <td>0.923903</td>\n",
       "      <td>{'learning_rate': 0.2, 'max_depth': 7, 'n_esti...</td>\n",
       "    </tr>\n",
       "    <tr>\n",
       "      <th>RandomForest</th>\n",
       "      <td>0.892292</td>\n",
       "      <td>0.532864</td>\n",
       "      <td>0.643667</td>\n",
       "      <td>0.583048</td>\n",
       "      <td>7.476518</td>\n",
       "      <td>35.633270</td>\n",
       "      <td>0.920113</td>\n",
       "      <td>{'max_depth': None, 'min_samples_leaf': 1, 'mi...</td>\n",
       "    </tr>\n",
       "    <tr>\n",
       "      <th>ElasticNet</th>\n",
       "      <td>0.837775</td>\n",
       "      <td>0.391856</td>\n",
       "      <td>0.700378</td>\n",
       "      <td>0.502543</td>\n",
       "      <td>14.402004</td>\n",
       "      <td>29.962193</td>\n",
       "      <td>0.865567</td>\n",
       "      <td>{'C': 1, 'l1_ratio': 0.1, 'penalty': 'elasticn...</td>\n",
       "    </tr>\n",
       "  </tbody>\n",
       "</table>\n",
       "</div>"
      ],
      "text/plain": [
       "                  Accuracy  Precision    Recall  F1 Score  Type I Error (%)  \\\n",
       "XGBoost           0.901913   0.584570  0.558601  0.571290          5.259862   \n",
       "GradientBoosting  0.905009   0.599401  0.567108  0.582807          5.021916   \n",
       "RandomForest      0.892292   0.532864  0.643667  0.583048          7.476518   \n",
       "ElasticNet        0.837775   0.391856  0.700378  0.502543         14.402004   \n",
       "\n",
       "                  Type II Error (%)   ROC AUC  \\\n",
       "XGBoost                   44.139887  0.924599   \n",
       "GradientBoosting          43.289225  0.923903   \n",
       "RandomForest              35.633270  0.920113   \n",
       "ElasticNet                29.962193  0.865567   \n",
       "\n",
       "                                                        Best Params  \n",
       "XGBoost           {'colsample_bytree': 0.8, 'learning_rate': 0.2...  \n",
       "GradientBoosting  {'learning_rate': 0.2, 'max_depth': 7, 'n_esti...  \n",
       "RandomForest      {'max_depth': None, 'min_samples_leaf': 1, 'mi...  \n",
       "ElasticNet        {'C': 1, 'l1_ratio': 0.1, 'penalty': 'elasticn...  "
      ]
     },
     "execution_count": 25,
     "metadata": {},
     "output_type": "execute_result"
    }
   ],
   "source": [
    "# Convertir resultados a DataFrame y mostrar\n",
    "results_df = pd.DataFrame.from_dict(results, orient='index').sort_values(by='ROC AUC', ascending=False)\n",
    "print(\"\\nResultados finales:\")\n",
    "results_df"
   ]
  },
  {
   "cell_type": "code",
   "execution_count": 26,
   "metadata": {},
   "outputs": [
    {
     "data": {
      "text/plain": [
       "{'ElasticNet': LogisticRegression(C=1, l1_ratio=0.1, max_iter=10000, penalty='elasticnet',\n",
       "                    solver='saga'),\n",
       " 'XGBoost': XGBClassifier(base_score=None, booster=None, callbacks=None,\n",
       "               colsample_bylevel=None, colsample_bynode=None,\n",
       "               colsample_bytree=0.8, device=None, early_stopping_rounds=None,\n",
       "               enable_categorical=False, eval_metric='logloss',\n",
       "               feature_types=None, gamma=None, grow_policy=None,\n",
       "               importance_type=None, interaction_constraints=None,\n",
       "               learning_rate=0.2, max_bin=None, max_cat_threshold=None,\n",
       "               max_cat_to_onehot=None, max_delta_step=None, max_depth=7,\n",
       "               max_leaves=None, min_child_weight=1, missing=nan,\n",
       "               monotone_constraints=None, multi_strategy=None, n_estimators=200,\n",
       "               n_jobs=None, num_parallel_tree=None, random_state=42, ...),\n",
       " 'RandomForest': RandomForestClassifier(n_estimators=200, random_state=42),\n",
       " 'GradientBoosting': GradientBoostingClassifier(learning_rate=0.2, max_depth=7, n_estimators=200,\n",
       "                            random_state=42)}"
      ]
     },
     "execution_count": 26,
     "metadata": {},
     "output_type": "execute_result"
    }
   ],
   "source": [
    "best_models"
   ]
  },
  {
   "cell_type": "code",
   "execution_count": 34,
   "metadata": {},
   "outputs": [
    {
     "name": "stdout",
     "output_type": "stream",
     "text": [
      "[[7388  597]\n",
      " [ 377  681]]\n",
      "[[TN  FP] \n",
      " [FN  TP]]\n"
     ]
    }
   ],
   "source": [
    "y_pred = best_models['RandomForest'].predict(X_test[X_filtered])\n",
    "y_prob = best_models['RandomForest'].predict_proba(X_test[X_filtered])[:, 1]\n",
    "\n",
    "# Confusion matrix en el conjunto de prueba\n",
    "conf_matrix = confusion_matrix(y_test, y_pred)\n",
    "print(conf_matrix)\n",
    "print ('[[TN  FP] \\n [FN  TP]]')\n"
   ]
  },
  {
   "cell_type": "markdown",
   "metadata": {},
   "source": [
    "### Red Neuronal"
   ]
  },
  {
   "cell_type": "code",
   "execution_count": null,
   "metadata": {},
   "outputs": [],
   "source": [
    "# Función para construir el modelo\n",
    "def build_model(input_shape, learning_rate=0.001, dropout_rate=0.2, units=64, activation='relu', hidden_layers=2):\n",
    "    model = Sequential()\n",
    "    model.add(Dense(units, activation=activation, input_shape=(input_shape,)))\n",
    "    model.add(Dropout(dropout_rate))\n",
    "    \n",
    "    for _ in range(hidden_layers - 1):  \n",
    "        model.add(Dense(units, activation=activation))\n",
    "        model.add(Dropout(dropout_rate))\n",
    "    \n",
    "    model.add(Dense(1, activation='sigmoid'))\n",
    "    model.compile(optimizer=Adam(learning_rate=learning_rate), loss='binary_crossentropy', metrics=['AUC'])\n",
    "    return model\n",
    "\n",
    "# Parámetros de la red neuronal\n",
    "params = {'learning_rate': 0.001, 'dropout_rate': 0.2, 'units': 128, 'activation': 'relu', 'hidden_layers': 3}\n",
    "\n",
    "# Early Stopping\n",
    "early_stopping = EarlyStopping(monitor='val_loss', patience=5, restore_best_weights=True)\n",
    "\n",
    "# Convertir datos a numpy\n",
    "X_resample_np = X_resample[X_filtered].to_numpy()\n",
    "Y_resample_np = y_resample.to_numpy()\n",
    "\n",
    "# Train-validation split\n",
    "X_train, X_val, Y_train, Y_val = train_test_split(X_resample_np, Y_resample_np, test_size=0.2, random_state=42)\n",
    "\n",
    "# Construcción y entrenamiento del modelo\n",
    "model = build_model(input_shape=X_train.shape[1], **params)\n",
    "\n",
    "history = model.fit(\n",
    "    X_train, Y_train,\n",
    "    epochs=50, batch_size=32,\n",
    "    validation_data=(X_val, Y_val),\n",
    "    callbacks=[early_stopping],\n",
    "    verbose=1\n",
    ")\n",
    "\n",
    "# Predicciones en el conjunto de validación\n",
    "y_true = Y_val\n",
    "y_pred = (model.predict(X_val) > 0.5).astype(int).ravel()\n",
    "y_prob = model.predict(X_val).ravel()\n",
    "\n",
    "# Cálculo de métricas\n",
    "conf_matrix = confusion_matrix(y_true, y_pred)\n",
    "actual_negatives = conf_matrix[0].sum()\n",
    "actual_positives = conf_matrix[1].sum()\n",
    "\n",
    "false_positive = conf_matrix[0][1]  # Error Tipo I\n",
    "false_negative = conf_matrix[1][0]  # Error Tipo II\n",
    "\n",
    "false_positive_pct = (false_positive / actual_negatives) * 100\n",
    "false_negative_pct = (false_negative / actual_positives) * 100\n",
    "\n",
    "roc_auc = roc_auc_score(y_true, y_prob)\n",
    "accuracy = accuracy_score(y_true, y_pred)\n",
    "precision = precision_score(y_true, y_pred)\n",
    "recall = recall_score(y_true, y_pred)\n",
    "f1 = f1_score(y_true, y_pred)\n",
    "\n",
    "# Diccionario de resultados\n",
    "results = {\n",
    "    'Neural Network': {\n",
    "        'ROC AUC': roc_auc,\n",
    "        'Accuracy': accuracy,\n",
    "        'Precision': precision,\n",
    "        'Recall': recall,\n",
    "        'F1 Score': f1,\n",
    "        'Type I Error': false_positive_pct,\n",
    "        'Type II Error': false_negative_pct\n",
    "    }\n",
    "}\n",
    "\n",
    "# Graficar curva ROC\n",
    "fpr, tpr, _ = roc_curve(y_true, y_prob)\n",
    "plt.plot(fpr, tpr, label=f\"Neural Network (AUC = {roc_auc:.2f})\")\n",
    "plt.xlabel('False Positive Rate')\n",
    "plt.ylabel('True Positive Rate')\n",
    "plt.title('ROC Curve')\n",
    "plt.legend()\n",
    "plt.show()\n",
    "\n",
    "# Graficar evolución de loss y AUC\n",
    "epochs = range(1, len(history.history['loss']) + 1)\n",
    "plt.figure(figsize=(12, 5))\n",
    "\n",
    "# Pérdida (Loss)\n",
    "plt.subplot(1, 2, 1)\n",
    "plt.plot(epochs, history.history['loss'], 'b-', label='Training Loss')\n",
    "plt.plot(epochs, history.history['val_loss'], 'r-', label='Validation Loss')\n",
    "plt.xlabel('Epochs')\n",
    "plt.ylabel('Loss')\n",
    "plt.title('Evolución de la Pérdida')\n",
    "plt.legend()\n",
    "\n",
    "# AUC\n",
    "plt.subplot(1, 2, 2)\n",
    "plt.plot(epochs, history.history['auc'], 'b-', label='Training AUC')\n",
    "plt.plot(epochs, history.history['val_auc'], 'r-', label='Validation AUC')\n",
    "plt.xlabel('Epochs')\n",
    "plt.ylabel('AUC')\n",
    "plt.title('Evolución del AUC')\n",
    "plt.legend()\n",
    "\n",
    "plt.show()\n",
    "\n",
    "# Mostrar tabla de métricas\n",
    "df_results = pd.DataFrame(results).T\n",
    "print(df_results)\n"
   ]
  }
 ],
 "metadata": {
  "kernelspec": {
   "display_name": ".venv",
   "language": "python",
   "name": "python3"
  },
  "language_info": {
   "codemirror_mode": {
    "name": "ipython",
    "version": 3
   },
   "file_extension": ".py",
   "mimetype": "text/x-python",
   "name": "python",
   "nbconvert_exporter": "python",
   "pygments_lexer": "ipython3",
   "version": "3.11.0"
  }
 },
 "nbformat": 4,
 "nbformat_minor": 2
}
