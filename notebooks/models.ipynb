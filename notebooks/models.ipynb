{
 "cells": [
  {
   "cell_type": "code",
   "execution_count": 1,
   "metadata": {},
   "outputs": [],
   "source": [
    "import pandas as pd\n",
    "import matplotlib.pyplot as plt\n",
    "\n",
    "from sklearn.preprocessing import StandardScaler, MinMaxScaler\n",
    "from sklearn.model_selection import train_test_split, GridSearchCV\n",
    "from sklearn.metrics import accuracy_score, roc_auc_score, roc_curve,precision_score, recall_score, confusion_matrix, f1_score\n",
    "\n",
    "from imblearn.over_sampling import SMOTE\n",
    "from imblearn.combine import SMOTEENN\n",
    "from boruta import BorutaPy\n",
    "\n",
    "import xgboost as xgb\n",
    "from sklearn.model_selection import KFold\n",
    "from sklearn.linear_model import LogisticRegression\n",
    "from sklearn.ensemble import RandomForestClassifier\n",
    "from sklearn.ensemble import GradientBoostingClassifier\n",
    "from sklearn.model_selection import train_test_split\n",
    "\n",
    "from keras import Sequential\n",
    "from keras.src.layers import Dense, Dropout\n",
    "from keras.src.optimizers import Adam\n",
    "from keras.src.callbacks import EarlyStopping"
   ]
  },
  {
   "cell_type": "markdown",
   "metadata": {},
   "source": [
    "## Data prep"
   ]
  },
  {
   "cell_type": "code",
   "execution_count": 2,
   "metadata": {},
   "outputs": [
    {
     "data": {
      "text/plain": [
       "(45211, 33)"
      ]
     },
     "execution_count": 2,
     "metadata": {},
     "output_type": "execute_result"
    }
   ],
   "source": [
    "# Load data\n",
    "data = pd.read_csv('C:/Users/danie/OneDrive/Documentos/1 UNIANDES/10 semestre/Tesis/differential-privacy-banking-sector/data/processed/bank-processed.csv', sep=',')\n",
    "data.shape"
   ]
  },
  {
   "cell_type": "code",
   "execution_count": 3,
   "metadata": {},
   "outputs": [],
   "source": [
    "# Separate features and target variable\n",
    "X = data.drop(columns=['y'])\n",
    "Y = data['y']"
   ]
  },
  {
   "cell_type": "markdown",
   "metadata": {},
   "source": [
    "### MinMax Scaler"
   ]
  },
  {
   "cell_type": "code",
   "execution_count": 4,
   "metadata": {},
   "outputs": [],
   "source": [
    "# Define numerical features\n",
    "numeric_cols = ['age', 'balance', 'day', 'duration', 'campaign', 'pdays', 'previous']\n",
    "\n",
    "# Normalize numerical features\n",
    "scale = MinMaxScaler()\n",
    "X[numeric_cols] = scale.fit_transform(X[numeric_cols])"
   ]
  },
  {
   "cell_type": "code",
   "execution_count": 5,
   "metadata": {},
   "outputs": [],
   "source": [
    "# Split data into training and test sets\n",
    "X_train, X_test, y_train, y_test = train_test_split(X, Y, test_size=0.2, random_state=42, stratify=Y)"
   ]
  },
  {
   "cell_type": "markdown",
   "metadata": {},
   "source": [
    "#### SMOTE-EEN (Minority Over-sampling Technique combined with Edited Nearest Neighbors)"
   ]
  },
  {
   "cell_type": "code",
   "execution_count": 6,
   "metadata": {},
   "outputs": [
    {
     "data": {
      "text/html": [
       "<div>\n",
       "<style scoped>\n",
       "    .dataframe tbody tr th:only-of-type {\n",
       "        vertical-align: middle;\n",
       "    }\n",
       "\n",
       "    .dataframe tbody tr th {\n",
       "        vertical-align: top;\n",
       "    }\n",
       "\n",
       "    .dataframe thead th {\n",
       "        text-align: right;\n",
       "    }\n",
       "</style>\n",
       "<table border=\"1\" class=\"dataframe\">\n",
       "  <thead>\n",
       "    <tr style=\"text-align: right;\">\n",
       "      <th></th>\n",
       "      <th>count</th>\n",
       "      <th>percent</th>\n",
       "    </tr>\n",
       "    <tr>\n",
       "      <th>y</th>\n",
       "      <th></th>\n",
       "      <th></th>\n",
       "    </tr>\n",
       "  </thead>\n",
       "  <tbody>\n",
       "    <tr>\n",
       "      <th>0</th>\n",
       "      <td>39922</td>\n",
       "      <td>88.30152</td>\n",
       "    </tr>\n",
       "    <tr>\n",
       "      <th>1</th>\n",
       "      <td>5289</td>\n",
       "      <td>11.69848</td>\n",
       "    </tr>\n",
       "  </tbody>\n",
       "</table>\n",
       "</div>"
      ],
      "text/plain": [
       "   count   percent\n",
       "y                 \n",
       "0  39922  88.30152\n",
       "1   5289  11.69848"
      ]
     },
     "execution_count": 6,
     "metadata": {},
     "output_type": "execute_result"
    }
   ],
   "source": [
    "stat = pd.DataFrame(Y.value_counts())\n",
    "stat['percent'] = stat['count']/Y.shape[0]*100\n",
    "stat"
   ]
  },
  {
   "cell_type": "code",
   "execution_count": 7,
   "metadata": {},
   "outputs": [],
   "source": [
    "# Crear el objeto SMOTEENN\n",
    "smoteenn = SMOTEENN(random_state=42)\n",
    "\n",
    "# Aplicar la resampleación\n",
    "X_resample, y_resample = smoteenn.fit_resample(X_train, y_train)\n",
    "\n",
    "# Convertir a DataFrame para mantener nombres de columnas\n",
    "X_resample = pd.DataFrame(X_resample, columns=X.columns)\n",
    "y_resample = pd.Series(y_resample)\n"
   ]
  },
  {
   "cell_type": "code",
   "execution_count": 8,
   "metadata": {},
   "outputs": [
    {
     "data": {
      "text/html": [
       "<div>\n",
       "<style scoped>\n",
       "    .dataframe tbody tr th:only-of-type {\n",
       "        vertical-align: middle;\n",
       "    }\n",
       "\n",
       "    .dataframe tbody tr th {\n",
       "        vertical-align: top;\n",
       "    }\n",
       "\n",
       "    .dataframe thead th {\n",
       "        text-align: right;\n",
       "    }\n",
       "</style>\n",
       "<table border=\"1\" class=\"dataframe\">\n",
       "  <thead>\n",
       "    <tr style=\"text-align: right;\">\n",
       "      <th></th>\n",
       "      <th>count</th>\n",
       "      <th>percent</th>\n",
       "    </tr>\n",
       "    <tr>\n",
       "      <th>y</th>\n",
       "      <th></th>\n",
       "      <th></th>\n",
       "    </tr>\n",
       "  </thead>\n",
       "  <tbody>\n",
       "    <tr>\n",
       "      <th>1</th>\n",
       "      <td>27937</td>\n",
       "      <td>52.214788</td>\n",
       "    </tr>\n",
       "    <tr>\n",
       "      <th>0</th>\n",
       "      <td>25567</td>\n",
       "      <td>47.785212</td>\n",
       "    </tr>\n",
       "  </tbody>\n",
       "</table>\n",
       "</div>"
      ],
      "text/plain": [
       "   count    percent\n",
       "y                  \n",
       "1  27937  52.214788\n",
       "0  25567  47.785212"
      ]
     },
     "execution_count": 8,
     "metadata": {},
     "output_type": "execute_result"
    }
   ],
   "source": [
    "stat2 = pd.DataFrame(y_resample.value_counts())\n",
    "stat2['percent'] = stat2['count']/y_resample.shape[0]*100\n",
    "stat2"
   ]
  },
  {
   "cell_type": "markdown",
   "metadata": {},
   "source": [
    "### Feature Selection\n"
   ]
  },
  {
   "cell_type": "code",
   "execution_count": 10,
   "metadata": {},
   "outputs": [],
   "source": [
    "# Inicializar el modelo de XGBoost asegurando compatibilidad\n",
    "rf = xgb.XGBClassifier(eval_metric='logloss')\n",
    "\n",
    "# Configurar BorutaPy\n",
    "feat_selector = BorutaPy(rf, n_estimators='auto', verbose=0, random_state=42)\n",
    "\n",
    "# Ajustar BorutaPy asegurando que Y_resample sea 1D\n",
    "feat_selector.fit(X_resample.values, y_resample.values.ravel())\n",
    "\n",
    "# Obtener las características seleccionadas\n",
    "X_filtered = X.columns[feat_selector.support_].tolist()"
   ]
  },
  {
   "cell_type": "code",
   "execution_count": 11,
   "metadata": {},
   "outputs": [
    {
     "data": {
      "text/plain": [
       "['age',\n",
       " 'balance',\n",
       " 'housing',\n",
       " 'loan',\n",
       " 'day',\n",
       " 'month',\n",
       " 'duration',\n",
       " 'campaign',\n",
       " 'pdays',\n",
       " 'previous',\n",
       " 'job_blue-collar',\n",
       " 'job_entrepreneur',\n",
       " 'job_housemaid',\n",
       " 'job_management',\n",
       " 'job_self-employed',\n",
       " 'job_services',\n",
       " 'job_student',\n",
       " 'job_unemployed',\n",
       " 'marital_married',\n",
       " 'education_secondary',\n",
       " 'education_tertiary',\n",
       " 'education_unknown',\n",
       " 'contact_telephone',\n",
       " 'contact_unknown',\n",
       " 'poutcome_success',\n",
       " 'poutcome_unknown']"
      ]
     },
     "execution_count": 11,
     "metadata": {},
     "output_type": "execute_result"
    }
   ],
   "source": [
    "X_filtered"
   ]
  },
  {
   "cell_type": "code",
   "execution_count": 12,
   "metadata": {},
   "outputs": [
    {
     "data": {
      "text/plain": [
       "26"
      ]
     },
     "execution_count": 12,
     "metadata": {},
     "output_type": "execute_result"
    }
   ],
   "source": [
    "len(X_filtered)"
   ]
  },
  {
   "cell_type": "markdown",
   "metadata": {},
   "source": [
    "## Hyperparameter Tuning"
   ]
  },
  {
   "cell_type": "code",
   "execution_count": null,
   "metadata": {},
   "outputs": [],
   "source": [
    "# Definir modelos\n",
    "models = {\n",
    "    'ElasticNet': LogisticRegression(solver='saga', max_iter=10000),\n",
    "    'XGBoost': xgb.XGBClassifier(eval_metric='logloss', random_state=42),\n",
    "    'RandomForest': RandomForestClassifier(random_state=42),\n",
    "    'GradientBoosting': GradientBoostingClassifier(random_state=42)\n",
    "}\n",
    "\n",
    "# Definir hiperparámetros\n",
    "param_grids = {\n",
    "    'ElasticNet': {\n",
    "        'C': [0.01, 0.1, 1, 10, 100], \n",
    "        'l1_ratio': [0.1, 0.3, 0.5, 0.7, 0.9],\n",
    "        'penalty': ['elasticnet']\n",
    "    },\n",
    "    'XGBoost': {\n",
    "        'n_estimators': [50, 100, 200],\n",
    "        'max_depth': [3, 5, 7],\n",
    "        'learning_rate': [0.001, 0.01, 0.05, 0.1, 0.2, 0.3],\n",
    "        'min_child_weight': [1, 3, 5],\n",
    "        'subsample': [0.6, 0.8, 1.0],\n",
    "        'colsample_bytree': [0.6, 0.8, 1.0]\n",
    "    },\n",
    "    'RandomForest': {\n",
    "        'n_estimators': [50, 100, 200],\n",
    "        'max_depth': [None, 10, 20],\n",
    "        'min_samples_split': [2, 5, 10],\n",
    "        'min_samples_leaf': [1, 2, 4]\n",
    "    },\n",
    "    'GradientBoosting': {\n",
    "        'n_estimators': [50, 100, 200],\n",
    "        'learning_rate': [0.01, 0.1, 0.2],\n",
    "        'max_depth': [3, 5, 7]\n",
    "    }\n",
    "}\n"
   ]
  },
  {
   "cell_type": "markdown",
   "metadata": {},
   "source": [
    "### Training"
   ]
  },
  {
   "cell_type": "code",
   "execution_count": 16,
   "metadata": {},
   "outputs": [
    {
     "name": "stdout",
     "output_type": "stream",
     "text": [
      "Training ElasticNet...\n",
      "Best params for ElasticNet: {'C': 100, 'l1_ratio': 0.9, 'penalty': 'elasticnet'}\n",
      "Best ROC AUC score for ElasticNet: 0.948199\n",
      "Training XGBoost...\n"
     ]
    },
    {
     "name": "stderr",
     "output_type": "stream",
     "text": [
      "c:\\Users\\danie\\OneDrive\\Documentos\\1 UNIANDES\\10 semestre\\Tesis\\differential-privacy-banking-sector\\.venv\\Lib\\site-packages\\xgboost\\core.py:158: UserWarning: [14:41:55] WARNING: C:\\buildkite-agent\\builds\\buildkite-windows-cpu-autoscaling-group-i-08cbc0333d8d4aae1-1\\xgboost\\xgboost-ci-windows\\src\\learner.cc:740: \n",
      "Parameters: { \"use_label_encoder\" } are not used.\n",
      "\n",
      "  warnings.warn(smsg, UserWarning)\n"
     ]
    },
    {
     "name": "stdout",
     "output_type": "stream",
     "text": [
      "Best params for XGBoost: {'colsample_bytree': 0.6, 'learning_rate': 0.3, 'max_depth': 7, 'min_child_weight': 1, 'n_estimators': 200, 'subsample': 1.0}\n",
      "Best ROC AUC score for XGBoost: 0.996900\n",
      "Training RandomForest...\n",
      "Best params for RandomForest: {'max_depth': None, 'min_samples_leaf': 1, 'min_samples_split': 2, 'n_estimators': 200}\n",
      "Best ROC AUC score for RandomForest: 0.994576\n",
      "Training GradientBoosting...\n",
      "Best params for GradientBoosting: {'learning_rate': 0.2, 'max_depth': 7, 'n_estimators': 200}\n",
      "Best ROC AUC score for GradientBoosting: 0.996559\n"
     ]
    },
    {
     "data": {
      "image/png": "[encoded data removed]",
      "text/plain": [
       "<Figure size 1000x800 with 1 Axes>"
      ]
     },
     "metadata": {},
     "output_type": "display_data"
    },
    {
     "name": "stdout",
     "output_type": "stream",
     "text": [
      "\n",
      "Best overall model: XGBoost with ROC AUC: 0.996900\n"
     ]
    }
   ],
   "source": [
    "# Inicializar el gráfico de la curva ROC\n",
    "plt.figure(figsize=(10, 8))\n",
    "\n",
    "# k-fold cross-validation\n",
    "kf = KFold(n_splits=3, shuffle=True, random_state=42)\n",
    "\n",
    "# Diccionarios para almacenar resultados\n",
    "results = {}\n",
    "best_models = {}\n",
    "best_scores = {}\n",
    "\n",
    "for model_name, model in models.items():\n",
    "    print(f'Training {model_name}...')\n",
    "\n",
    "    # Grid Search con validación cruzada\n",
    "    grid_search = GridSearchCV(model, param_grids[model_name], cv=kf, scoring='roc_auc', n_jobs=-1)\n",
    "    grid_search.fit(X_resample[X_filtered], y_resample)\n",
    "\n",
    "    best_models[model_name] = grid_search.best_estimator_\n",
    "    best_scores[model_name] = grid_search.best_score_\n",
    "\n",
    "    print(f'Best params for {model_name}: {grid_search.best_params_}')\n",
    "    print(f'Best ROC AUC score for {model_name}: {grid_search.best_score_:.6f}')\n",
    "\n",
    "    # Hacer predicciones en el conjunto de prueba con el thresholh de 0.4\n",
    "    y_prob = best_models[model_name].predict_proba(X_test[X_filtered])[:, 1]\n",
    "    threshold = 0.4\n",
    "    y_pred = (y_prob >= threshold).astype(int)\n",
    "\n",
    "    # Confusion matrix en el conjunto de prueba\n",
    "    conf_matrix = confusion_matrix(y_test, y_pred)\n",
    "    actual_negatives = conf_matrix[0].sum()\n",
    "    actual_positives = conf_matrix[1].sum()\n",
    "\n",
    "    false_positive = conf_matrix[0][1]  # Error Tipo I\n",
    "    false_negative = conf_matrix[1][0]  # Error Tipo II\n",
    "\n",
    "    false_positive_pct = (false_positive / actual_negatives) * 100\n",
    "    false_negative_pct = (false_negative / actual_positives) * 100\n",
    "\n",
    "    # Guardar resultados en el diccionario\n",
    "    results[model_name] = {\n",
    "        'Accuracy': accuracy_score(y_test, y_pred),\n",
    "        'Precision': precision_score(y_test, y_pred),\n",
    "        'Recall': recall_score(y_test, y_pred),\n",
    "        'F1 Score': f1_score(y_test, y_pred),\n",
    "        'Type I Error (%)': false_positive_pct,\n",
    "        'Type II Error (%)': false_negative_pct,\n",
    "        'ROC AUC': roc_auc_score(y_test, y_prob),\n",
    "        'Best Params': grid_search.best_params_\n",
    "    }\n",
    "\n",
    "    # Curva ROC\n",
    "    fpr, tpr, _ = roc_curve(y_test, y_prob)\n",
    "    plt.plot(fpr, tpr, label=f\"{model_name} (AUC = {results[model_name]['ROC AUC']:.2f})\")\n",
    "\n",
    "plt.xlabel('False Positive Rate')\n",
    "plt.ylabel('True Positive Rate')\n",
    "plt.title('Models ROC curves')\n",
    "plt.legend()\n",
    "plt.show()\n",
    "\n",
    "# Seleccionar el mejor modelo basado en la métrica ROC AUC\n",
    "best_model_name = max(best_scores, key=best_scores.get)\n",
    "best_model = best_models[best_model_name]\n",
    "print(f'\\nBest overall model: {best_model_name} with ROC AUC: {best_scores[best_model_name]:.6f}')\n"
   ]
  },
  {
   "cell_type": "code",
   "execution_count": 17,
   "metadata": {},
   "outputs": [
    {
     "name": "stdout",
     "output_type": "stream",
     "text": [
      "\n",
      "Resultados finales:\n"
     ]
    },
    {
     "data": {
      "text/html": [
       "<div>\n",
       "<style scoped>\n",
       "    .dataframe tbody tr th:only-of-type {\n",
       "        vertical-align: middle;\n",
       "    }\n",
       "\n",
       "    .dataframe tbody tr th {\n",
       "        vertical-align: top;\n",
       "    }\n",
       "\n",
       "    .dataframe thead th {\n",
       "        text-align: right;\n",
       "    }\n",
       "</style>\n",
       "<table border=\"1\" class=\"dataframe\">\n",
       "  <thead>\n",
       "    <tr style=\"text-align: right;\">\n",
       "      <th></th>\n",
       "      <th>Accuracy</th>\n",
       "      <th>Precision</th>\n",
       "      <th>Recall</th>\n",
       "      <th>F1 Score</th>\n",
       "      <th>Type I Error (%)</th>\n",
       "      <th>Type II Error (%)</th>\n",
       "      <th>ROC AUC</th>\n",
       "      <th>Best Params</th>\n",
       "    </tr>\n",
       "  </thead>\n",
       "  <tbody>\n",
       "    <tr>\n",
       "      <th>XGBoost</th>\n",
       "      <td>0.888864</td>\n",
       "      <td>0.517197</td>\n",
       "      <td>0.753308</td>\n",
       "      <td>0.613313</td>\n",
       "      <td>9.317470</td>\n",
       "      <td>24.669187</td>\n",
       "      <td>0.925315</td>\n",
       "      <td>{'colsample_bytree': 0.6, 'learning_rate': 0.3...</td>\n",
       "    </tr>\n",
       "    <tr>\n",
       "      <th>RandomForest</th>\n",
       "      <td>0.851487</td>\n",
       "      <td>0.431060</td>\n",
       "      <td>0.842155</td>\n",
       "      <td>0.570240</td>\n",
       "      <td>14.727614</td>\n",
       "      <td>15.784499</td>\n",
       "      <td>0.923345</td>\n",
       "      <td>{'max_depth': None, 'min_samples_leaf': 1, 'mi...</td>\n",
       "    </tr>\n",
       "    <tr>\n",
       "      <th>GradientBoosting</th>\n",
       "      <td>0.887427</td>\n",
       "      <td>0.512920</td>\n",
       "      <td>0.750473</td>\n",
       "      <td>0.609363</td>\n",
       "      <td>9.442705</td>\n",
       "      <td>24.952741</td>\n",
       "      <td>0.922282</td>\n",
       "      <td>{'learning_rate': 0.2, 'max_depth': 7, 'n_esti...</td>\n",
       "    </tr>\n",
       "    <tr>\n",
       "      <th>ElasticNet</th>\n",
       "      <td>0.773748</td>\n",
       "      <td>0.322685</td>\n",
       "      <td>0.849716</td>\n",
       "      <td>0.467742</td>\n",
       "      <td>23.631810</td>\n",
       "      <td>15.028355</td>\n",
       "      <td>0.886278</td>\n",
       "      <td>{'C': 100, 'l1_ratio': 0.9, 'penalty': 'elasti...</td>\n",
       "    </tr>\n",
       "  </tbody>\n",
       "</table>\n",
       "</div>"
      ],
      "text/plain": [
       "                  Accuracy  Precision    Recall  F1 Score  Type I Error (%)  \\\n",
       "XGBoost           0.888864   0.517197  0.753308  0.613313          9.317470   \n",
       "RandomForest      0.851487   0.431060  0.842155  0.570240         14.727614   \n",
       "GradientBoosting  0.887427   0.512920  0.750473  0.609363          9.442705   \n",
       "ElasticNet        0.773748   0.322685  0.849716  0.467742         23.631810   \n",
       "\n",
       "                  Type II Error (%)   ROC AUC  \\\n",
       "XGBoost                   24.669187  0.925315   \n",
       "RandomForest              15.784499  0.923345   \n",
       "GradientBoosting          24.952741  0.922282   \n",
       "ElasticNet                15.028355  0.886278   \n",
       "\n",
       "                                                        Best Params  \n",
       "XGBoost           {'colsample_bytree': 0.6, 'learning_rate': 0.3...  \n",
       "RandomForest      {'max_depth': None, 'min_samples_leaf': 1, 'mi...  \n",
       "GradientBoosting  {'learning_rate': 0.2, 'max_depth': 7, 'n_esti...  \n",
       "ElasticNet        {'C': 100, 'l1_ratio': 0.9, 'penalty': 'elasti...  "
      ]
     },
     "execution_count": 17,
     "metadata": {},
     "output_type": "execute_result"
    }
   ],
   "source": [
    "# Convertir resultados a DataFrame y mostrar\n",
    "results_df = pd.DataFrame.from_dict(results, orient='index').sort_values(by='ROC AUC', ascending=False)\n",
    "print(\"\\nResultados finales:\")\n",
    "results_df"
   ]
  },
  {
   "cell_type": "code",
   "execution_count": null,
   "metadata": {},
   "outputs": [
    {
     "name": "stdout",
     "output_type": "stream",
     "text": [
      "[[7091  894]\n",
      " [ 241  817]]\n",
      "[[TN  FP] \n",
      " [FN  TP]]\n"
     ]
    }
   ],
   "source": [
    "y_pred = best_models['RandomForest'].predict(X_test[X_filtered])\n",
    "y_prob = best_models['RandomForest'].predict_proba(X_test[X_filtered])[:, 1]\n",
    "\n",
    "# Confusion matrix en el conjunto de prueba\n",
    "conf_matrix = confusion_matrix(y_test, y_pred)\n",
    "print(conf_matrix)\n",
    "print ('[[TN  FP] \\n [FN  TP]]')"
   ]
  },
  {
   "cell_type": "markdown",
   "metadata": {},
   "source": [
    "### Red Neuronal"
   ]
  },
  {
   "cell_type": "code",
   "execution_count": null,
   "metadata": {},
   "outputs": [],
   "source": [
    "# Función para construir el modelo\n",
    "def build_model(input_shape, learning_rate, dropout_rate, units, activation, hidden_layers):\n",
    "    model = Sequential()\n",
    "    model.add(Dense(units, activation=activation, input_shape=(input_shape,)))\n",
    "    model.add(Dropout(dropout_rate))\n",
    "    \n",
    "    for _ in range(hidden_layers - 1):  \n",
    "        model.add(Dense(units, activation=activation))\n",
    "        model.add(Dropout(dropout_rate))\n",
    "    \n",
    "    model.add(Dense(1, activation='sigmoid'))\n",
    "    model.compile(optimizer=Adam(learning_rate=learning_rate), loss='binary_crossentropy', metrics=['AUC'])\n",
    "    return model\n"
   ]
  },
  {
   "cell_type": "code",
   "execution_count": null,
   "metadata": {},
   "outputs": [],
   "source": [
    "# Parámetros de la red neuronal\n",
    "params = {'learning_rate': 0.001, 'dropout_rate': 0.2, 'units': 128, 'activation': 'relu', 'hidden_layers': 3}\n",
    "\n",
    "# Early Stopping\n",
    "early_stopping = EarlyStopping(monitor='val_loss', patience=5, restore_best_weights=True)"
   ]
  },
  {
   "cell_type": "code",
   "execution_count": 21,
   "metadata": {},
   "outputs": [
    {
     "name": "stderr",
     "output_type": "stream",
     "text": [
      "c:\\Users\\danie\\OneDrive\\Documentos\\1 UNIANDES\\10 semestre\\Tesis\\differential-privacy-banking-sector\\.venv\\Lib\\site-packages\\keras\\src\\layers\\core\\dense.py:87: UserWarning: Do not pass an `input_shape`/`input_dim` argument to a layer. When using Sequential models, prefer using an `Input(shape)` object as the first layer in the model instead.\n",
      "  super().__init__(activity_regularizer=activity_regularizer, **kwargs)\n"
     ]
    },
    {
     "name": "stdout",
     "output_type": "stream",
     "text": [
      "Epoch 1/50\n",
      "\u001b[1m1338/1338\u001b[0m \u001b[32m━━━━━━━━━━━━━━━━━━━━\u001b[0m\u001b[37m\u001b[0m \u001b[1m4s\u001b[0m 2ms/step - AUC: 0.8262 - loss: 0.4895 - val_AUC: 0.9596 - val_loss: 0.2614\n",
      "Epoch 2/50\n",
      "\u001b[1m1338/1338\u001b[0m \u001b[32m━━━━━━━━━━━━━━━━━━━━\u001b[0m\u001b[37m\u001b[0m \u001b[1m3s\u001b[0m 2ms/step - AUC: 0.9525 - loss: 0.2761 - val_AUC: 0.9650 - val_loss: 0.2363\n",
      "Epoch 3/50\n",
      "\u001b[1m1338/1338\u001b[0m \u001b[32m━━━━━━━━━━━━━━━━━━━━\u001b[0m\u001b[37m\u001b[0m \u001b[1m3s\u001b[0m 2ms/step - AUC: 0.9622 - loss: 0.2456 - val_AUC: 0.9685 - val_loss: 0.2221\n",
      "Epoch 4/50\n",
      "\u001b[1m1338/1338\u001b[0m \u001b[32m━━━━━━━━━━━━━━━━━━━━\u001b[0m\u001b[37m\u001b[0m \u001b[1m3s\u001b[0m 2ms/step - AUC: 0.9656 - loss: 0.2337 - val_AUC: 0.9689 - val_loss: 0.2214\n",
      "Epoch 5/50\n",
      "\u001b[1m1338/1338\u001b[0m \u001b[32m━━━━━━━━━━━━━━━━━━━━\u001b[0m\u001b[37m\u001b[0m \u001b[1m3s\u001b[0m 2ms/step - AUC: 0.9675 - loss: 0.2254 - val_AUC: 0.9727 - val_loss: 0.2011\n",
      "Epoch 6/50\n",
      "\u001b[1m1338/1338\u001b[0m \u001b[32m━━━━━━━━━━━━━━━━━━━━\u001b[0m\u001b[37m\u001b[0m \u001b[1m3s\u001b[0m 2ms/step - AUC: 0.9703 - loss: 0.2147 - val_AUC: 0.9721 - val_loss: 0.2284\n",
      "Epoch 7/50\n",
      "\u001b[1m1338/1338\u001b[0m \u001b[32m━━━━━━━━━━━━━━━━━━━━\u001b[0m\u001b[37m\u001b[0m \u001b[1m2s\u001b[0m 2ms/step - AUC: 0.9731 - loss: 0.2051 - val_AUC: 0.9747 - val_loss: 0.1911\n",
      "Epoch 8/50\n",
      "\u001b[1m1338/1338\u001b[0m \u001b[32m━━━━━━━━━━━━━━━━━━━━\u001b[0m\u001b[37m\u001b[0m \u001b[1m17s\u001b[0m 12ms/step - AUC: 0.9741 - loss: 0.2004 - val_AUC: 0.9752 - val_loss: 0.1915\n",
      "Epoch 9/50\n",
      "\u001b[1m1338/1338\u001b[0m \u001b[32m━━━━━━━━━━━━━━━━━━━━\u001b[0m\u001b[37m\u001b[0m \u001b[1m20s\u001b[0m 12ms/step - AUC: 0.9749 - loss: 0.1961 - val_AUC: 0.9758 - val_loss: 0.1875\n",
      "Epoch 10/50\n",
      "\u001b[1m1338/1338\u001b[0m \u001b[32m━━━━━━━━━━━━━━━━━━━━\u001b[0m\u001b[37m\u001b[0m \u001b[1m2s\u001b[0m 2ms/step - AUC: 0.9762 - loss: 0.1911 - val_AUC: 0.9769 - val_loss: 0.1860\n",
      "Epoch 11/50\n",
      "\u001b[1m1338/1338\u001b[0m \u001b[32m━━━━━━━━━━━━━━━━━━━━\u001b[0m\u001b[37m\u001b[0m \u001b[1m2s\u001b[0m 2ms/step - AUC: 0.9760 - loss: 0.1902 - val_AUC: 0.9770 - val_loss: 0.1847\n",
      "Epoch 12/50\n",
      "\u001b[1m1338/1338\u001b[0m \u001b[32m━━━━━━━━━━━━━━━━━━━━\u001b[0m\u001b[37m\u001b[0m \u001b[1m2s\u001b[0m 2ms/step - AUC: 0.9776 - loss: 0.1841 - val_AUC: 0.9779 - val_loss: 0.1777\n",
      "Epoch 13/50\n",
      "\u001b[1m1338/1338\u001b[0m \u001b[32m━━━━━━━━━━━━━━━━━━━━\u001b[0m\u001b[37m\u001b[0m \u001b[1m2s\u001b[0m 2ms/step - AUC: 0.9792 - loss: 0.1776 - val_AUC: 0.9778 - val_loss: 0.1808\n",
      "Epoch 14/50\n",
      "\u001b[1m1338/1338\u001b[0m \u001b[32m━━━━━━━━━━━━━━━━━━━━\u001b[0m\u001b[37m\u001b[0m \u001b[1m2s\u001b[0m 2ms/step - AUC: 0.9784 - loss: 0.1790 - val_AUC: 0.9790 - val_loss: 0.1715\n",
      "Epoch 15/50\n",
      "\u001b[1m1338/1338\u001b[0m \u001b[32m━━━━━━━━━━━━━━━━━━━━\u001b[0m\u001b[37m\u001b[0m \u001b[1m2s\u001b[0m 2ms/step - AUC: 0.9788 - loss: 0.1796 - val_AUC: 0.9789 - val_loss: 0.1777\n",
      "Epoch 16/50\n",
      "\u001b[1m1338/1338\u001b[0m \u001b[32m━━━━━━━━━━━━━━━━━━━━\u001b[0m\u001b[37m\u001b[0m \u001b[1m3s\u001b[0m 2ms/step - AUC: 0.9801 - loss: 0.1714 - val_AUC: 0.9795 - val_loss: 0.1702\n",
      "Epoch 17/50\n",
      "\u001b[1m1338/1338\u001b[0m \u001b[32m━━━━━━━━━━━━━━━━━━━━\u001b[0m\u001b[37m\u001b[0m \u001b[1m2s\u001b[0m 2ms/step - AUC: 0.9803 - loss: 0.1703 - val_AUC: 0.9791 - val_loss: 0.1786\n",
      "Epoch 18/50\n",
      "\u001b[1m1338/1338\u001b[0m \u001b[32m━━━━━━━━━━━━━━━━━━━━\u001b[0m\u001b[37m\u001b[0m \u001b[1m2s\u001b[0m 2ms/step - AUC: 0.9809 - loss: 0.1683 - val_AUC: 0.9800 - val_loss: 0.1747\n",
      "Epoch 19/50\n",
      "\u001b[1m1338/1338\u001b[0m \u001b[32m━━━━━━━━━━━━━━━━━━━━\u001b[0m\u001b[37m\u001b[0m \u001b[1m2s\u001b[0m 2ms/step - AUC: 0.9812 - loss: 0.1670 - val_AUC: 0.9794 - val_loss: 0.1747\n",
      "Epoch 20/50\n",
      "\u001b[1m1338/1338\u001b[0m \u001b[32m━━━━━━━━━━━━━━━━━━━━\u001b[0m\u001b[37m\u001b[0m \u001b[1m2s\u001b[0m 2ms/step - AUC: 0.9812 - loss: 0.1669 - val_AUC: 0.9793 - val_loss: 0.1748\n",
      "Epoch 21/50\n",
      "\u001b[1m1338/1338\u001b[0m \u001b[32m━━━━━━━━━━━━━━━━━━━━\u001b[0m\u001b[37m\u001b[0m \u001b[1m3s\u001b[0m 2ms/step - AUC: 0.9827 - loss: 0.1613 - val_AUC: 0.9791 - val_loss: 0.1739\n",
      "\u001b[1m335/335\u001b[0m \u001b[32m━━━━━━━━━━━━━━━━━━━━\u001b[0m\u001b[37m\u001b[0m \u001b[1m0s\u001b[0m 732us/step\n",
      "\u001b[1m335/335\u001b[0m \u001b[32m━━━━━━━━━━━━━━━━━━━━\u001b[0m\u001b[37m\u001b[0m \u001b[1m0s\u001b[0m 618us/step\n"
     ]
    }
   ],
   "source": [
    "# Construcción y entrenamiento del modelo\n",
    "model = build_model(input_shape=X_train.shape[1], **params)\n",
    "\n",
    "history = model.fit(\n",
    "    X_train, Y_train,\n",
    "    epochs=50, batch_size=32,\n",
    "    validation_data=(X_val, Y_val),\n",
    "    callbacks=[early_stopping],\n",
    "    verbose=1\n",
    ")\n",
    "\n",
    "# Predicciones en el conjunto de validación\n",
    "y_true = Y_val\n",
    "y_pred = (model.predict(X_val) > 0.5).astype(int).ravel()\n",
    "y_prob = model.predict(X_val).ravel()"
   ]
  },
  {
   "cell_type": "code",
   "execution_count": 22,
   "metadata": {},
   "outputs": [],
   "source": [
    "# Cálculo de métricas\n",
    "conf_matrix = confusion_matrix(y_true, y_pred)\n",
    "actual_negatives = conf_matrix[0].sum()\n",
    "actual_positives = conf_matrix[1].sum()\n",
    "\n",
    "false_positive = conf_matrix[0][1]  # Error Tipo I\n",
    "false_negative = conf_matrix[1][0]  # Error Tipo II\n",
    "\n",
    "false_positive_pct = (false_positive / actual_negatives) * 100\n",
    "false_negative_pct = (false_negative / actual_positives) * 100\n",
    "\n",
    "roc_auc = roc_auc_score(y_true, y_prob)\n",
    "accuracy = accuracy_score(y_true, y_pred)\n",
    "precision = precision_score(y_true, y_pred)\n",
    "recall = recall_score(y_true, y_pred)\n",
    "f1 = f1_score(y_true, y_pred)\n",
    "\n",
    "# Diccionario de resultados\n",
    "results = {\n",
    "    'Neural Network': {\n",
    "        'ROC AUC': roc_auc,\n",
    "        'Accuracy': accuracy,\n",
    "        'Precision': precision,\n",
    "        'Recall': recall,\n",
    "        'F1 Score': f1,\n",
    "        'Type I Error': false_positive_pct,\n",
    "        'Type II Error': false_negative_pct\n",
    "    }\n",
    "}"
   ]
  },
  {
   "cell_type": "code",
   "execution_count": 23,
   "metadata": {},
   "outputs": [
    {
     "data": {
      "text/html": [
       "<div>\n",
       "<style scoped>\n",
       "    .dataframe tbody tr th:only-of-type {\n",
       "        vertical-align: middle;\n",
       "    }\n",
       "\n",
       "    .dataframe tbody tr th {\n",
       "        vertical-align: top;\n",
       "    }\n",
       "\n",
       "    .dataframe thead th {\n",
       "        text-align: right;\n",
       "    }\n",
       "</style>\n",
       "<table border=\"1\" class=\"dataframe\">\n",
       "  <thead>\n",
       "    <tr style=\"text-align: right;\">\n",
       "      <th></th>\n",
       "      <th>ROC AUC</th>\n",
       "      <th>Accuracy</th>\n",
       "      <th>Precision</th>\n",
       "      <th>Recall</th>\n",
       "      <th>F1 Score</th>\n",
       "      <th>Type I Error</th>\n",
       "      <th>Type II Error</th>\n",
       "    </tr>\n",
       "  </thead>\n",
       "  <tbody>\n",
       "    <tr>\n",
       "      <th>Neural Network</th>\n",
       "      <td>0.979631</td>\n",
       "      <td>0.939632</td>\n",
       "      <td>0.927126</td>\n",
       "      <td>0.960732</td>\n",
       "      <td>0.94363</td>\n",
       "      <td>8.377686</td>\n",
       "      <td>3.926795</td>\n",
       "    </tr>\n",
       "  </tbody>\n",
       "</table>\n",
       "</div>"
      ],
      "text/plain": [
       "                 ROC AUC  Accuracy  Precision    Recall  F1 Score  \\\n",
       "Neural Network  0.979631  0.939632   0.927126  0.960732   0.94363   \n",
       "\n",
       "                Type I Error  Type II Error  \n",
       "Neural Network      8.377686       3.926795  "
      ]
     },
     "execution_count": 23,
     "metadata": {},
     "output_type": "execute_result"
    }
   ],
   "source": [
    "# Mostrar tabla de métricas\n",
    "df_results = pd.DataFrame(results).T\n",
    "df_results"
   ]
  },
  {
   "cell_type": "code",
   "execution_count": 27,
   "metadata": {},
   "outputs": [
    {
     "name": "stdout",
     "output_type": "stream",
     "text": [
      "[[4648  425]\n",
      " [ 221 5407]]\n",
      "[[TN  FP] \n",
      " [FN  TP]]\n"
     ]
    }
   ],
   "source": [
    "print(conf_matrix)\n",
    "print ('[[TN  FP] \\n [FN  TP]]')"
   ]
  },
  {
   "cell_type": "code",
   "execution_count": 24,
   "metadata": {},
   "outputs": [
    {
     "data": {
      "image/png": "[encoded data removed]",
      "text/plain": [
       "<Figure size 640x480 with 1 Axes>"
      ]
     },
     "metadata": {},
     "output_type": "display_data"
    }
   ],
   "source": [
    "# Graficar curva ROC\n",
    "fpr, tpr, _ = roc_curve(y_true, y_prob)\n",
    "plt.plot(fpr, tpr, label=f\"Neural Network (AUC = {roc_auc:.2f})\")\n",
    "plt.xlabel('False Positive Rate')\n",
    "plt.ylabel('True Positive Rate')\n",
    "plt.title('ROC Curve')\n",
    "plt.legend()\n",
    "plt.show()"
   ]
  },
  {
   "cell_type": "code",
   "execution_count": 26,
   "metadata": {},
   "outputs": [
    {
     "data": {
      "image/png": "[encoded data removed]",
      "text/plain": [
       "<Figure size 800x600 with 1 Axes>"
      ]
     },
     "metadata": {},
     "output_type": "display_data"
    }
   ],
   "source": [
    "import matplotlib.pyplot as plt\n",
    "\n",
    "# Suponiendo que ya entrenaste el modelo y tienes 'history'\n",
    "# Graficar la pérdida (loss)\n",
    "plt.figure(figsize=(8, 6))\n",
    "plt.plot(history.history['loss'], label='Training Loss')\n",
    "plt.plot(history.history['val_loss'], label='Validation Loss')\n",
    "plt.title('Training and Validation Loss')\n",
    "plt.xlabel('Epoch')\n",
    "plt.ylabel('Loss')\n",
    "plt.legend()\n",
    "plt.grid(True)\n",
    "plt.show()"
   ]
  }
 ],
 "metadata": {
  "kernelspec": {
   "display_name": ".venv",
   "language": "python",
   "name": "python3"
  },
  "language_info": {
   "codemirror_mode": {
    "name": "ipython",
    "version": 3
   },
   "file_extension": ".py",
   "mimetype": "text/x-python",
   "name": "python",
   "nbconvert_exporter": "python",
   "pygments_lexer": "ipython3",
   "version": "3.11.0"
  }
 },
 "nbformat": 4,
 "nbformat_minor": 2
}
