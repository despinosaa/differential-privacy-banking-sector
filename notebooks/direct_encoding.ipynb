{
 "cells": [
  {
   "cell_type": "markdown",
   "metadata": {},
   "source": [
    "<h2 style=\"text-align: center;\"><strong>Differential Privacy Strategies for Data Analytics in the Banking Sector</strong></h2>"
   ]
  },
  {
   "cell_type": "markdown",
   "metadata": {},
   "source": [
    "<div style=\"text-align: center;\">\n",
    "  Universidad de los Andes<br>\n",
    "  Author: Daniela Espinosa 202022615<br>\n",
    "</div>\n"
   ]
  },
  {
   "cell_type": "code",
   "execution_count": null,
   "metadata": {},
   "outputs": [],
   "source": [
    "import pandas as pd\n",
    "import matplotlib.pyplot as plt\n",
    "from sklearn.model_selection import train_test_split\n",
    "from sklearn.preprocessing import MinMaxScaler\n",
    "from imblearn.combine import SMOTEENN\n",
    "from boruta import BorutaPy\n",
    "from sklearn.ensemble import RandomForestClassifier\n",
    "from sklearn.metrics import roc_auc_score, accuracy_score, precision_score, recall_score, f1_score, confusion_matrix\n",
    "from pure_ldp.frequency_oracles.direct_encoding import DEClient"
   ]
  },
  {
   "cell_type": "markdown",
   "metadata": {},
   "source": [
    "### Cargar datos"
   ]
  },
  {
   "cell_type": "code",
   "execution_count": 12,
   "metadata": {},
   "outputs": [],
   "source": [
    "# Cargar el dataset\n",
    "data_path = '../data/raw/bank-full.csv'\n",
    "df = pd.read_csv(data_path, sep=';')\n",
    "\n",
    "# Mapear la variable objetivo\n",
    "df['y'] = df['y'].map({'no': 0, 'yes': 1})\n",
    "\n",
    "# Separar características y objetivo\n",
    "X = df.drop(columns=['y'])\n",
    "y = df['y']\n",
    "\n",
    "# Mejores parámetros encontrados\n",
    "best_params_rf = {'max_depth': None, 'min_samples_leaf': 1, 'min_samples_split': 2, 'n_estimators': 200}\n"
   ]
  },
  {
   "cell_type": "markdown",
   "metadata": {},
   "source": [
    "### Definición de funciones"
   ]
  },
  {
   "cell_type": "code",
   "execution_count": null,
   "metadata": {},
   "outputs": [],
   "source": [
    "# Función para mapear variables categóricas binarias y meses\n",
    "def map_binary_columns(df):\n",
    "    \"\"\"\n",
    "    Convierte las columnas binarias de 'no'/'yes' a 0/1.\n",
    "    También convierte los meses a valores numéricos.\n",
    "    \"\"\"\n",
    "    df['default'] = df['default'].map({'no': 0, 'yes': 1})\n",
    "    df['housing'] = df['housing'].map({'no': 0, 'yes': 1})\n",
    "    df['loan'] = df['loan'].map({'no': 0, 'yes': 1})\n",
    "    df['month'] = df['month'].map({\n",
    "        'jan': 1, 'feb': 2, 'mar': 3, 'apr': 4,\n",
    "        'may': 5, 'jun': 6, 'jul': 7, 'aug': 8,\n",
    "        'sep': 9, 'oct': 10, 'nov': 11, 'dec': 12\n",
    "    })\n",
    "    return df\n",
    "\n",
    "# Función para mapear variables categóricas con 3+ categorías\n",
    "def map_categorical_columns(df, categorical_columns):\n",
    "    \"\"\"\n",
    "    Convierte las columnas categóricas con más de dos categorías a valores numéricos.\n",
    "    Genera un mapeo para cada columna.\n",
    "    \"\"\"\n",
    "    mappings = {}\n",
    "    for col in categorical_columns:\n",
    "        unique_values = df[col].unique()\n",
    "        mappings[col] = {value: idx for idx, value in enumerate(unique_values)}\n",
    "        df[col] = df[col].map(mappings[col])\n",
    "    return df, mappings\n",
    "\n",
    "# Función para aplicar de con Direct Encoding\n",
    "def apply_de(df, epsilon, categorical_columns):\n",
    "    \"\"\"\n",
    "    Aplica Local Differential Privacy (LDP) usando el método Direct Encoding (DE).\n",
    "    Cada valor categórico se privatiza añadiendo ruido controlado por el parámetro epsilon.\n",
    "    \"\"\"\n",
    "    df_de = df.copy()\n",
    "    for col in categorical_columns:\n",
    "        de = DEClient(epsilon=epsilon, d=df[col].nunique())\n",
    "        df_de[col] = df[col].apply(lambda x: de.privatise(x))\n",
    "    return df_de\n",
    "\n",
    "# Procesamiento completo: incluye OHE antes y después de DE\n",
    "def process_data(X, y, categorical_columns, apply_DE=False, epsilon=None):\n",
    "    \"\"\"\n",
    "    Procesa los datos:\n",
    "    - Aplica Direct Encoding si está activado\n",
    "    - One-Hot Encoding (OHE)\n",
    "    - Split train-test\n",
    "    - Escalado de columnas numéricas\n",
    "    - Oversampling con SMOTEENN\n",
    "    - Selección de características con Boruta\n",
    "    \"\"\"\n",
    "    x = X.copy()\n",
    "    if apply_DE and epsilon:\n",
    "        x = apply_de(x, epsilon, categorical_columns)\n",
    "\n",
    "    # One-Hot Encoding (OHE)\n",
    "    x = pd.get_dummies(x, columns=categorical_columns, drop_first=True, dtype='int64')\n",
    "\n",
    "    # Split train-test\n",
    "    X_train, X_test, y_train, y_test = train_test_split(x, y, test_size=0.3, random_state=42)\n",
    "\n",
    "    # Escalado de las columnas numéricas\n",
    "    numeric_columns = ['age', 'balance', 'day', 'month', 'duration', 'campaign', 'pdays', 'previous']\n",
    "    scaler = MinMaxScaler()\n",
    "    X_train[numeric_columns] = scaler.fit_transform(X_train[numeric_columns])\n",
    "    X_test[numeric_columns] = scaler.transform(X_test[numeric_columns])\n",
    "\n",
    "    # Aplicar SMOTEENN para balancear clases\n",
    "    smoteenn = SMOTEENN(random_state=42)\n",
    "    X_train_resampled, y_train_resampled = smoteenn.fit_resample(X_train, y_train)\n",
    "\n",
    "    # Selección de características con Boruta\n",
    "    rf = RandomForestClassifier(**best_params_rf, random_state=42)\n",
    "    boruta = BorutaPy(rf, n_estimators='auto', verbose=0)\n",
    "    boruta.fit(X_train_resampled.values, y_train_resampled.values)\n",
    "    selected_features = X_train_resampled.columns[boruta.support_].tolist()\n",
    "    return X_train_resampled[selected_features], X_test[selected_features], y_train_resampled, y_test\n",
    "\n",
    "# Entrenar y evaluar modelo\n",
    "def evaluate_model(X_train, y_train, X_test, y_test):\n",
    "    \"\"\"\n",
    "    Entrena un RandomForestClassifier y calcula varias métricas de evaluación.\n",
    "    Incluye métricas como AUC, Accuracy, Precision, Recall, F1, y errores tipo I y II.\n",
    "    \"\"\"\n",
    "    model = RandomForestClassifier(**best_params_rf, random_state=42)\n",
    "    model.fit(X_train, y_train)\n",
    "    y_pred = model.predict(X_test)\n",
    "    y_prob = model.predict_proba(X_test)[:, 1]\n",
    "\n",
    "    # Matriz de confusión\n",
    "    conf_matrix = confusion_matrix(y_test, y_pred)\n",
    "    actual_negatives, actual_positives = conf_matrix[0].sum(), conf_matrix[1].sum()\n",
    "    false_positive_pct = conf_matrix[0][1] / actual_negatives\n",
    "    false_negative_pct = conf_matrix[1][0] / actual_positives\n",
    "    \n",
    "    # Métricas\n",
    "    return {\n",
    "        'ROC AUC': roc_auc_score(y_test, y_prob),\n",
    "        'Accuracy': accuracy_score(y_test, y_pred),\n",
    "        'Precision': precision_score(y_test, y_pred),\n",
    "        'Recall': recall_score(y_test, y_pred),\n",
    "        'F1 Score': f1_score(y_test, y_pred),\n",
    "        'Type I Error': false_positive_pct,\n",
    "        'Type II Error': false_negative_pct\n",
    "    }\n"
   ]
  },
  {
   "cell_type": "code",
   "execution_count": null,
   "metadata": {},
   "outputs": [],
   "source": [
    "# Variables categóricas con 3+ categorías (para One-Hot Encoding)\n",
    "categorical_columns_3 = ['job', 'marital', 'education', 'contact', 'poutcome']\n",
    "\n",
    "# Todas las variables categóricas (para Direct Encoding)\n",
    "all_categorical_columns = ['default', 'housing', 'loan', 'job', 'marital', 'education', 'contact', 'poutcome']\n",
    "\n",
    "# Epsilons y resultados\n",
    "epsilons = [5, 1, 0.1]\n",
    "results = {}"
   ]
  },
  {
   "cell_type": "markdown",
   "metadata": {},
   "source": [
    "### Mapeo de columnas categóricas"
   ]
  },
  {
   "cell_type": "code",
   "execution_count": null,
   "metadata": {},
   "outputs": [],
   "source": [
    "# Preprocesar datos originales\n",
    "X = map_binary_columns(X)\n",
    "X, cat_mappings = map_categorical_columns(X, categorical_columns_3)"
   ]
  },
  {
   "cell_type": "markdown",
   "metadata": {},
   "source": [
    "### Modelo sin privacidad"
   ]
  },
  {
   "cell_type": "code",
   "execution_count": null,
   "metadata": {},
   "outputs": [],
   "source": [
    "# Modelo sin Direct Encoding\n",
    "X_train, X_test, y_train, y_test = process_data(X, y, categorical_columns_3)\n",
    "results['Original'] = evaluate_model(X_train, y_train, X_test, y_test)"
   ]
  },
  {
   "cell_type": "markdown",
   "metadata": {},
   "source": [
    "### Modelos con privacidad"
   ]
  },
  {
   "cell_type": "code",
   "execution_count": 16,
   "metadata": {},
   "outputs": [
    {
     "data": {
      "text/html": [
       "<div>\n",
       "<style scoped>\n",
       "    .dataframe tbody tr th:only-of-type {\n",
       "        vertical-align: middle;\n",
       "    }\n",
       "\n",
       "    .dataframe tbody tr th {\n",
       "        vertical-align: top;\n",
       "    }\n",
       "\n",
       "    .dataframe thead th {\n",
       "        text-align: right;\n",
       "    }\n",
       "</style>\n",
       "<table border=\"1\" class=\"dataframe\">\n",
       "  <thead>\n",
       "    <tr style=\"text-align: right;\">\n",
       "      <th></th>\n",
       "      <th>Original</th>\n",
       "      <th>DE (ε =5)</th>\n",
       "      <th>DE (ε =1)</th>\n",
       "      <th>DE (ε =0.1)</th>\n",
       "    </tr>\n",
       "  </thead>\n",
       "  <tbody>\n",
       "    <tr>\n",
       "      <th>ROC AUC</th>\n",
       "      <td>0.926362</td>\n",
       "      <td>0.924490</td>\n",
       "      <td>0.916603</td>\n",
       "      <td>0.914991</td>\n",
       "    </tr>\n",
       "    <tr>\n",
       "      <th>Accuracy</th>\n",
       "      <td>0.877175</td>\n",
       "      <td>0.876733</td>\n",
       "      <td>0.881893</td>\n",
       "      <td>0.879092</td>\n",
       "    </tr>\n",
       "    <tr>\n",
       "      <th>Precision</th>\n",
       "      <td>0.486791</td>\n",
       "      <td>0.485410</td>\n",
       "      <td>0.499124</td>\n",
       "      <td>0.490781</td>\n",
       "    </tr>\n",
       "    <tr>\n",
       "      <th>Recall</th>\n",
       "      <td>0.784105</td>\n",
       "      <td>0.770338</td>\n",
       "      <td>0.712766</td>\n",
       "      <td>0.699625</td>\n",
       "    </tr>\n",
       "    <tr>\n",
       "      <th>F1 Score</th>\n",
       "      <td>0.600671</td>\n",
       "      <td>0.595549</td>\n",
       "      <td>0.587113</td>\n",
       "      <td>0.576883</td>\n",
       "    </tr>\n",
       "    <tr>\n",
       "      <th>Type I Error</th>\n",
       "      <td>0.110396</td>\n",
       "      <td>0.109059</td>\n",
       "      <td>0.095521</td>\n",
       "      <td>0.096941</td>\n",
       "    </tr>\n",
       "    <tr>\n",
       "      <th>Type II Error</th>\n",
       "      <td>0.215895</td>\n",
       "      <td>0.229662</td>\n",
       "      <td>0.287234</td>\n",
       "      <td>0.300375</td>\n",
       "    </tr>\n",
       "  </tbody>\n",
       "</table>\n",
       "</div>"
      ],
      "text/plain": [
       "               Original  DE (ε =5)  DE (ε =1)  DE (ε =0.1)\n",
       "ROC AUC        0.926362   0.924490   0.916603     0.914991\n",
       "Accuracy       0.877175   0.876733   0.881893     0.879092\n",
       "Precision      0.486791   0.485410   0.499124     0.490781\n",
       "Recall         0.784105   0.770338   0.712766     0.699625\n",
       "F1 Score       0.600671   0.595549   0.587113     0.576883\n",
       "Type I Error   0.110396   0.109059   0.095521     0.096941\n",
       "Type II Error  0.215895   0.229662   0.287234     0.300375"
      ]
     },
     "execution_count": 16,
     "metadata": {},
     "output_type": "execute_result"
    }
   ],
   "source": [
    "# Modelos con Direct Encoding\n",
    "for epsilon in epsilons:\n",
    "    X_train_de, X_test_de, y_train_de, y_test_de = process_data(X, y, categorical_columns_3, apply_DE=True, epsilon=epsilon)\n",
    "    results[f'DE (ε ={epsilon})'] = evaluate_model(X_train_de, y_train_de, X_test_de, y_test_de)\n",
    "\n",
    "# Resultados\n",
    "results_df = pd.DataFrame(results)\n",
    "results_df"
   ]
  },
  {
   "cell_type": "markdown",
   "metadata": {},
   "source": [
    "### Gráficas"
   ]
  },
  {
   "cell_type": "code",
   "execution_count": null,
   "metadata": {},
   "outputs": [
    {
     "data": {
      "text/plain": [
       "<Figure size 1200x600 with 0 Axes>"
      ]
     },
     "metadata": {},
     "output_type": "display_data"
    },
    {
     "data": {
      "image/png": "[encoded data removed]",
      "text/plain": [
       "<Figure size 640x480 with 1 Axes>"
      ]
     },
     "metadata": {},
     "output_type": "display_data"
    }
   ],
   "source": [
    "# Definir colores personalizados\n",
    "colores = ['#0d4e9e', '#ffc520', '#7b9ca0', '#242624']\n",
    "\n",
    "# Crear el gráfico de barras\n",
    "plt.figure(figsize=(12, 6))\n",
    "ax = results_df.plot(kind='bar', width=0.7, color=colores)\n",
    "\n",
    "# Añadir título y etiquetas\n",
    "plt.title('Comparación de métricas para diferentes $\\epsilon$ en LDP')\n",
    "plt.xlabel('Métricas')\n",
    "plt.ylabel('Valor de la métrica')\n",
    "plt.xticks(rotation=45)\n",
    "plt.legend(title='Modelos')\n",
    "\n",
    "# Ajustar diseño\n",
    "plt.tight_layout()\n",
    "plt.show()"
   ]
  }
 ],
 "metadata": {
  "kernelspec": {
   "display_name": ".venv",
   "language": "python",
   "name": "python3"
  },
  "language_info": {
   "codemirror_mode": {
    "name": "ipython",
    "version": 3
   },
   "file_extension": ".py",
   "mimetype": "text/x-python",
   "name": "python",
   "nbconvert_exporter": "python",
   "pygments_lexer": "ipython3",
   "version": "3.11.0"
  }
 },
 "nbformat": 4,
 "nbformat_minor": 2
}
