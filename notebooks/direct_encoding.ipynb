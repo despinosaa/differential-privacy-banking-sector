{
 "cells": [
  {
   "cell_type": "code",
   "execution_count": 2,
   "metadata": {},
   "outputs": [],
   "source": [
    "import numpy as np\n",
    "import pandas as pd\n",
    "import xgboost as xgb\n",
    "from sklearn.metrics import accuracy_score, precision_score, recall_score, f1_score, roc_auc_score, confusion_matrix\n",
    "from sklearn.model_selection import train_test_split\n",
    "from pure_ldp.frequency_oracles import direct_encoding as DirectEncoding"
   ]
  },
  {
   "cell_type": "code",
   "execution_count": null,
   "metadata": {},
   "outputs": [],
   "source": [
    "# Cargar datos\n",
    "data = pd.read_csv('../data/processed/bank-filtered.csv')\n",
    "X = data.drop(columns=['y'])\n",
    "Y = data['y']\n",
    "\n",
    "# Dividir en entrenamiento y prueba\n",
    "X_train, X_test, Y_train, Y_test = train_test_split(X, Y, test_size=0.2, random_state=42)\n",
    "\n",
    "# Parámetros del mejor modelo\n",
    "best_params = {'learning_rate': 0.2, 'max_depth': 7, 'n_estimators': 200}\n",
    "\n",
    "# Función para aplicar LDP con Direct Encoding\n",
    "def apply_ldp(X, epsilon):\n",
    "    ldp_X = np.zeros_like(X)\n",
    "    for i in range(X.shape[1]):\n",
    "        de = DirectEncoding(epsilon=epsilon, d=X.iloc[:, i].nunique())\n",
    "        ldp_X[:, i] = [de.privatise(x) for x in X.iloc[:, i]]\n",
    "    return pd.DataFrame(ldp_X, columns=X.columns)\n",
    "\n",
    "# Evaluar modelo en datos originales y con LDP\n",
    "results = {}\n",
    "\n",
    "def evaluate_model(X_train, X_test, Y_train, Y_test, label):\n",
    "    model = xgb.XGBClassifier(**best_params, use_label_encoder=False, eval_metric='logloss', random_state=42)\n",
    "    model.fit(X_train, Y_train)\n",
    "    Y_pred = model.predict(X_test)\n",
    "    Y_prob = model.predict_proba(X_test)[:, 1]\n",
    "    \n",
    "    # Calcular métricas\n",
    "    conf_matrix = confusion_matrix(Y_test, Y_pred)\n",
    "    actual_negatives, actual_positives = conf_matrix[0].sum(), conf_matrix[1].sum()\n",
    "    false_positive_pct = (conf_matrix[0][1] / actual_negatives) * 100\n",
    "    false_negative_pct = (conf_matrix[1][0] / actual_positives) * 100\n",
    "    \n",
    "    results[label] = {\n",
    "        'ROC AUC': roc_auc_score(Y_test, Y_prob),\n",
    "        'Accuracy': accuracy_score(Y_test, Y_pred),\n",
    "        'Precision': precision_score(Y_test, Y_pred),\n",
    "        'Recall': recall_score(Y_test, Y_pred),\n",
    "        'F1 Score': f1_score(Y_test, Y_pred),\n",
    "        'Type I Error': false_positive_pct,\n",
    "        'Type II Error': false_negative_pct\n",
    "    }\n",
    "\n",
    "# Evaluar modelo con datos originales\n",
    "evaluate_model(X_train, X_test, Y_train, Y_test, 'Original')\n",
    "\n",
    "# Evaluar modelo con datos bajo LDP\n",
    "for epsilon in [0.1, 1, 5]:\n",
    "    X_train_ldp = apply_ldp(X_train, epsilon)\n",
    "    X_test_ldp = apply_ldp(X_test, epsilon)\n",
    "    evaluate_model(X_train_ldp, X_test_ldp, Y_train, Y_test, f'LDP (epsilon={epsilon})')\n",
    "\n",
    "# Convertir resultados en DataFrame y mostrar\n",
    "results_df = pd.DataFrame(results).T\n",
    "print(results_df)\n"
   ]
  }
 ],
 "metadata": {
  "kernelspec": {
   "display_name": ".venv",
   "language": "python",
   "name": "python3"
  },
  "language_info": {
   "codemirror_mode": {
    "name": "ipython",
    "version": 3
   },
   "file_extension": ".py",
   "mimetype": "text/x-python",
   "name": "python",
   "nbconvert_exporter": "python",
   "pygments_lexer": "ipython3",
   "version": "3.11.0"
  }
 },
 "nbformat": 4,
 "nbformat_minor": 2
}
