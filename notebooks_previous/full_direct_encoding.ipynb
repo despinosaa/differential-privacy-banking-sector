{
 "cells": [
  {
   "cell_type": "code",
   "execution_count": 2,
   "metadata": {},
   "outputs": [],
   "source": [
    "import pandas as pd\n",
    "import matplotlib.pyplot as plt\n",
    "from sklearn.model_selection import train_test_split\n",
    "from imblearn.combine import SMOTEENN\n",
    "from boruta import BorutaPy\n",
    "from sklearn.ensemble import RandomForestClassifier\n",
    "from sklearn.metrics import roc_auc_score, accuracy_score, precision_score, recall_score, f1_score, confusion_matrix\n",
    "from pure_ldp.frequency_oracles.direct_encoding import DEClient\n"
   ]
  },
  {
   "cell_type": "code",
   "execution_count": 3,
   "metadata": {},
   "outputs": [],
   "source": [
    "# Cargar datos\n",
    "data_path = '../data/raw/bank-full.csv'\n",
    "df = pd.read_csv(data_path, sep=';')\n",
    "df['y'] = df['y'].map({'no': 0, 'yes': 1})\n",
    "X = df.drop(columns=['y'])\n",
    "y = df['y']\n",
    "\n",
    "# Mejores parámetros encontrados\n",
    "best_params_rf = {'max_depth': None, 'min_samples_leaf': 1, 'min_samples_split': 2, 'n_estimators': 200}\n"
   ]
  },
  {
   "cell_type": "code",
   "execution_count": 4,
   "metadata": {},
   "outputs": [],
   "source": [
    "\n",
    "# Función para mapear variables categóricas binarias y meses\n",
    "def map_binary_columns(df):\n",
    "    df['default'] = df['default'].map({'no': 0, 'yes': 1})\n",
    "    df['housing'] = df['housing'].map({'no': 0, 'yes': 1})\n",
    "    df['loan'] = df['loan'].map({'no': 0, 'yes': 1})\n",
    "    df['month'] = df['month'].map({\n",
    "        'jan': 1, 'feb': 2, 'mar': 3, 'apr': 4,\n",
    "        'may': 5, 'jun': 6, 'jul': 7, 'aug': 8,\n",
    "        'sep': 9, 'oct': 10, 'nov': 11, 'dec': 12\n",
    "    })\n",
    "    return df\n",
    "\n",
    "# Función para convertir variables numéricas en categóricas\n",
    "def convert_numerics_to_categories(df):\n",
    "    # age\n",
    "    bins_age = [18, 30, 40, 50, 60, 95]\n",
    "    labels_age = ['18-30', '31-40', '41-50', '51-60', '61+']\n",
    "    df['age'] = pd.cut(df['age'], bins=bins_age, labels=labels_age, include_lowest=True)\n",
    "\n",
    "    # balance\n",
    "    bins_balance = [-8019, 0, 72, 448, 1428, 102127]\n",
    "    labels_balance = ['negative', '0-72', '73-448', '449-1428', '1429+']\n",
    "    df['balance'] = pd.cut(df['balance'], bins=bins_balance, labels=labels_balance, include_lowest=True)\n",
    "\n",
    "    # day\n",
    "    bins_day = [1, 7, 14, 21, 31]\n",
    "    labels_day = ['1-7', '8-14', '15-21', '22-31']\n",
    "    df['day'] = pd.cut(df['day'], bins=bins_day, labels=labels_day, include_lowest=True)\n",
    "\n",
    "    # duration\n",
    "    bins_duration = [0, 103, 180, 319, 4918]\n",
    "    labels_duration = ['0-103', '104-180', '181-319', '320+']\n",
    "    df['duration'] = pd.cut(df['duration'], bins=bins_duration, labels=labels_duration, include_lowest=True)\n",
    "\n",
    "    # campaign\n",
    "    bins_campaign = [1, 2, 3, 10, 63]  # Ajustado para evitar duplicados\n",
    "    labels_campaign = ['1', '2-3', '4-10', '11+']\n",
    "    df['campaign'] = pd.cut(df['campaign'], bins=bins_campaign, labels=labels_campaign, include_lowest=True)\n",
    "\n",
    "    # pdays\n",
    "    bins_pdays = [-1, 0, 30, 90, 871]  # Ajustado para evitar duplicados\n",
    "    labels_pdays = ['no_contact', '0-30', '31-90', '91+']\n",
    "    df['pdays'] = pd.cut(df['pdays'], bins=bins_pdays, labels=labels_pdays, include_lowest=True)\n",
    "\n",
    "    # previous\n",
    "    bins_previous = [0, 1, 2, 5, 275]  # Ajustado para evitar duplicados\n",
    "    labels_previous = ['0', '1-2', '3-5', '6+']\n",
    "    df['previous'] = pd.cut(df['previous'], bins=bins_previous, labels=labels_previous, include_lowest=True)\n",
    "\n",
    "    return df\n",
    "\n",
    "# Función para mapear variables categóricas a valores numéricos\n",
    "def map_categorical_columns(df, categorical_columns):\n",
    "    mappings = {}\n",
    "    for col in categorical_columns:\n",
    "        unique_values = df[col].unique()\n",
    "        mappings[col] = {value: idx for idx, value in enumerate(unique_values) if pd.notna(value)}\n",
    "        df[col] = df[col].map(mappings[col])\n",
    "    return df, mappings\n",
    "\n",
    "# Función para aplicar DE con Direct Encoding\n",
    "def apply_de(df, epsilon, categorical_columns):\n",
    "    df_de = df.copy()\n",
    "    for col in categorical_columns:\n",
    "        de = DEClient(epsilon=epsilon, d=df[col].nunique())\n",
    "        df_de[col] = df_de[col].apply(lambda x: de.privatise(int(x)))\n",
    "    return df_de\n",
    "\n",
    "# Procesamiento completo\n",
    "def process_data(X, y, categorical_columns, apply_DE=False, epsilon=None):\n",
    "    x = X.copy()\n",
    "    if apply_DE and epsilon:\n",
    "        x = apply_de(x, epsilon, categorical_columns)\n",
    "\n",
    "    # One-Hot Encoding (OHE)\n",
    "    x = pd.get_dummies(x, columns=categorical_columns, drop_first=True, dtype='int64')\n",
    "\n",
    "    # Split train-test\n",
    "    X_train, X_test, y_train, y_test = train_test_split(x, y, test_size=0.3, random_state=42)\n",
    "\n",
    "    # No se necesita escalado porque todas las columnas son categóricas\n",
    "\n",
    "    # Aplicar SMOTEENN para balancear clases\n",
    "    smoteenn = SMOTEENN(random_state=42)\n",
    "    X_train_resampled, y_train_resampled = smoteenn.fit_resample(X_train, y_train)\n",
    "\n",
    "    # Selección de características con Boruta\n",
    "    rf = RandomForestClassifier(**best_params_rf, random_state=42)\n",
    "    boruta = BorutaPy(rf, n_estimators='auto', verbose=0)\n",
    "    boruta.fit(X_train_resampled.values, y_train_resampled.values)\n",
    "    selected_features = X_train_resampled.columns[boruta.support_].tolist()\n",
    "    return X_train_resampled[selected_features], X_test[selected_features], y_train_resampled, y_test\n",
    "\n",
    "# Entrenar y evaluar modelo\n",
    "def evaluate_model(X_train, y_train, X_test, y_test):\n",
    "    model = RandomForestClassifier(**best_params_rf, random_state=42)\n",
    "    model.fit(X_train, y_train)\n",
    "    y_pred = model.predict(X_test)\n",
    "    y_prob = model.predict_proba(X_test)[:, 1]\n",
    "    conf_matrix = confusion_matrix(y_test, y_pred)\n",
    "    actual_negatives, actual_positives = conf_matrix[0].sum(), conf_matrix[1].sum()\n",
    "    false_positive_pct = conf_matrix[0][1] / actual_negatives if actual_negatives > 0 else 0\n",
    "    false_negative_pct = conf_matrix[1][0] / actual_positives if actual_positives > 0 else 0\n",
    "    return {\n",
    "        'ROC AUC': roc_auc_score(y_test, y_prob),\n",
    "        'Accuracy': accuracy_score(y_test, y_pred),\n",
    "        'Precision': precision_score(y_test, y_pred),\n",
    "        'Recall': recall_score(y_test, y_pred),\n",
    "        'F1 Score': f1_score(y_test, y_pred),\n",
    "        'Type I Error': false_positive_pct,\n",
    "        'Type II Error': false_negative_pct\n",
    "    }"
   ]
  },
  {
   "cell_type": "code",
   "execution_count": 5,
   "metadata": {},
   "outputs": [],
   "source": [
    "# Todas las columnas son ahora categóricas\n",
    "all_categorical_columns = ['default', 'housing', 'loan', 'job', 'marital', 'education', 'contact', 'poutcome',\n",
    "                           'age', 'balance', 'day', 'duration', 'campaign', 'pdays', 'previous']\n",
    "\n",
    "# Epsilons y resultados\n",
    "epsilons = [5, 1, 0.5, 0.1]\n",
    "results = {}"
   ]
  },
  {
   "cell_type": "code",
   "execution_count": 6,
   "metadata": {},
   "outputs": [],
   "source": [
    "# Preprocesar datos originales\n",
    "X = map_binary_columns(X)\n",
    "X = convert_numerics_to_categories(X)\n",
    "X, cat_mappings = map_categorical_columns(X, all_categorical_columns)"
   ]
  },
  {
   "cell_type": "code",
   "execution_count": 7,
   "metadata": {},
   "outputs": [],
   "source": [
    "# Modelo sin privacidad\n",
    "X_train, X_test, y_train, y_test = process_data(X, y, all_categorical_columns)\n",
    "results['Original'] = evaluate_model(X_train, y_train, X_test, y_test)"
   ]
  },
  {
   "cell_type": "code",
   "execution_count": 8,
   "metadata": {},
   "outputs": [
    {
     "name": "stdout",
     "output_type": "stream",
     "text": [
      "               Original  DE (ε=5)  DE (ε=1)  DE (ε=0.5)  DE (ε=0.1)\n",
      "ROC AUC        0.852700  0.863735  0.731219    0.817975    0.845281\n",
      "Accuracy       0.759216  0.735255  0.469331    0.634326    0.700162\n",
      "Precision      0.307123  0.292353  0.167142    0.228433    0.267908\n",
      "Recall         0.831039  0.877972  0.879850    0.884856    0.891740\n",
      "F1 Score       0.448497  0.438643  0.280919    0.363123    0.412028\n",
      "Type I Error   0.250376  0.283804  0.585492    0.399131    0.325422\n",
      "Type II Error  0.168961  0.122028  0.120150    0.115144    0.108260\n"
     ]
    }
   ],
   "source": [
    "# Modelos con Direct Encoding\n",
    "for epsilon in epsilons:\n",
    "    X_train_de, X_test_de, y_train_de, y_test_de = process_data(X, y, all_categorical_columns, apply_DE=True, epsilon=epsilon)\n",
    "    results[f'DE (ε={epsilon})'] = evaluate_model(X_train_de, y_train_de, X_test_de, y_test_de)\n",
    "\n",
    "# Resultados\n",
    "results_df = pd.DataFrame(results)\n",
    "print(results_df)"
   ]
  },
  {
   "cell_type": "code",
   "execution_count": 9,
   "metadata": {},
   "outputs": [
    {
     "data": {
      "text/plain": [
       "<Figure size 1200x600 with 0 Axes>"
      ]
     },
     "metadata": {},
     "output_type": "display_data"
    },
    {
     "data": {
      "image/png": "[encoded data removed]",
      "text/plain": [
       "<Figure size 640x480 with 1 Axes>"
      ]
     },
     "metadata": {},
     "output_type": "display_data"
    }
   ],
   "source": [
    "# Gráficas\n",
    "colores = ['#0d4e9e', '#ffc520', '#7b9ca0', '#242624', '#cc7b4f']\n",
    "plt.figure(figsize=(12, 6))\n",
    "ax = results_df.plot(kind='bar', width=0.7, color=colores)\n",
    "plt.title('Comparación de métricas para diferentes $\\epsilon$ en Direct Encoding (Todo Categórico)')\n",
    "plt.xlabel('Métricas')\n",
    "plt.ylabel('Valor')\n",
    "plt.xticks(rotation=45)\n",
    "plt.legend(title='Modelos')\n",
    "plt.tight_layout()\n",
    "plt.show()"
   ]
  }
 ],
 "metadata": {
  "kernelspec": {
   "display_name": ".venv",
   "language": "python",
   "name": "python3"
  },
  "language_info": {
   "codemirror_mode": {
    "name": "ipython",
    "version": 3
   },
   "file_extension": ".py",
   "mimetype": "text/x-python",
   "name": "python",
   "nbconvert_exporter": "python",
   "pygments_lexer": "ipython3",
   "version": "3.11.0"
  }
 },
 "nbformat": 4,
 "nbformat_minor": 2
}
